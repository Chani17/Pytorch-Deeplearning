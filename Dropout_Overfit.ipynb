{
  "nbformat": 4,
  "nbformat_minor": 0,
  "metadata": {
    "colab": {
      "name": "Dropout: Overfit",
      "provenance": [],
      "collapsed_sections": [],
      "authorship_tag": "ABX9TyPQeUM6nc1xbubJmp0MWhFz"
    },
    "kernelspec": {
      "name": "python3",
      "display_name": "Python 3"
    },
    "accelerator": "GPU"
  },
  "cells": [
    {
      "cell_type": "markdown",
      "metadata": {
        "id": "S4FVIRy98uzB"
      },
      "source": [
        "### 손글씨 숫자 데이터 분류"
      ]
    },
    {
      "cell_type": "code",
      "metadata": {
        "id": "S5Q7kBkD8lxs"
      },
      "source": [
        "import torch\r\n",
        "from torch import nn, optim\r\n",
        "from sklearn.datasets import load_digits\r\n",
        "import matplotlib.pyplot as plt"
      ],
      "execution_count": null,
      "outputs": []
    },
    {
      "cell_type": "code",
      "metadata": {
        "colab": {
          "base_uri": "https://localhost:8080/"
        },
        "id": "KlHwYk508yJr",
        "outputId": "d29131a9-d5fc-477c-faaa-4e96f8f2e94f"
      },
      "source": [
        "digits = load_digits()\r\n",
        "\r\n",
        "X = digits.data\r\n",
        "print(type(X))\r\n",
        "print(X.shape)\r\n",
        "\r\n",
        "y = digits.target\r\n",
        "print(type(y))\r\n",
        "print(y.shape)\r\n",
        "print(y)"
      ],
      "execution_count": null,
      "outputs": [
        {
          "output_type": "stream",
          "text": [
            "<class 'numpy.ndarray'>\n",
            "(1797, 64)\n",
            "<class 'numpy.ndarray'>\n",
            "(1797,)\n",
            "[0 1 2 ... 8 9 8]\n"
          ],
          "name": "stdout"
        }
      ]
    },
    {
      "cell_type": "markdown",
      "metadata": {
        "id": "F5TkN2SB83it"
      },
      "source": [
        "### 학습과 테스트 데이터 분류"
      ]
    },
    {
      "cell_type": "code",
      "metadata": {
        "colab": {
          "base_uri": "https://localhost:8080/"
        },
        "id": "Mdu7D_Fc82ZG",
        "outputId": "c89809c4-54c1-4fe3-f701-88f0508ce133"
      },
      "source": [
        "from sklearn.model_selection import train_test_split\r\n",
        "\r\n",
        "x_train, x_test, y_train, y_test = train_test_split(X, y, test_size=0.1, shuffle=True)\r\n",
        "\r\n",
        "print('Type: x_train, y_train, x_test, y_test')\r\n",
        "print(type(x_train), type(y_train), type(x_test), type(y_test))\r\n",
        "\r\n",
        "print('Type: x_train, y_train, x_test, y_test')\r\n",
        "print(x_train.shape, y_train.shape, x_test.shape, y_test.shape)"
      ],
      "execution_count": null,
      "outputs": [
        {
          "output_type": "stream",
          "text": [
            "Type: x_train, y_train, x_test, y_test\n",
            "<class 'numpy.ndarray'> <class 'numpy.ndarray'> <class 'numpy.ndarray'> <class 'numpy.ndarray'>\n",
            "Type: x_train, y_train, x_test, y_test\n",
            "(1617, 64) (1617,) (180, 64) (180,)\n"
          ],
          "name": "stdout"
        }
      ]
    },
    {
      "cell_type": "markdown",
      "metadata": {
        "id": "XPOXg0DN88Z5"
      },
      "source": [
        "### Tensor로 변환"
      ]
    },
    {
      "cell_type": "code",
      "metadata": {
        "id": "39-jL_HO87S_"
      },
      "source": [
        "x_train = torch.tensor(x_train, dtype=torch.float).to('cuda')\r\n",
        "y_train = torch.tensor(y_train, dtype=torch.long).to('cuda')\r\n",
        "x_test = torch.tensor(x_test, dtype=torch.float).to('cuda')\r\n",
        "y_test = torch.tensor(y_test, dtype=torch.long).to('cuda')"
      ],
      "execution_count": null,
      "outputs": []
    },
    {
      "cell_type": "markdown",
      "metadata": {
        "id": "rPuSxQQ-9K6f"
      },
      "source": [
        "### Dataset을 만든다.\r\n"
      ]
    },
    {
      "cell_type": "code",
      "metadata": {
        "colab": {
          "base_uri": "https://localhost:8080/"
        },
        "id": "12gJk89M8_Z5",
        "outputId": "69ec1107-fba4-4f46-dede-9417403c10ce"
      },
      "source": [
        "from torch.utils.data import TensorDataset, DataLoader\r\n",
        "\r\n",
        "train_dataset = TensorDataset(x_train, y_train)\r\n",
        "test_dataset = TensorDataset(x_test, y_test)\r\n",
        "\r\n",
        "print(train_dataset)\r\n",
        "print(test_dataset)"
      ],
      "execution_count": null,
      "outputs": [
        {
          "output_type": "stream",
          "text": [
            "<torch.utils.data.dataset.TensorDataset object at 0x7fbe38097710>\n",
            "<torch.utils.data.dataset.TensorDataset object at 0x7fbe380974e0>\n"
          ],
          "name": "stdout"
        }
      ]
    },
    {
      "cell_type": "markdown",
      "metadata": {
        "id": "ny0s-fcP9PM_"
      },
      "source": [
        "### Dataloader를 만든다.\r\n",
        "#### Overfit 유발시키는 코드"
      ]
    },
    {
      "cell_type": "code",
      "metadata": {
        "colab": {
          "base_uri": "https://localhost:8080/"
        },
        "id": "LLqQhp5B9OiS",
        "outputId": "0771debc-e99f-4c55-9dc6-c14024ebb413"
      },
      "source": [
        "train_dataloader = DataLoader(train_dataset, batch_size=32, shuffle=True)\r\n",
        "test_dataloader = DataLoader(test_dataset, batch_size=10000, shuffle=True)  # 한번에 시험보려고(있는 만큼) -> 그래서 batch_size를 10000으로 설정\r\n",
        "\r\n",
        "print(train_dataset)\r\n",
        "print(test_dataset)"
      ],
      "execution_count": null,
      "outputs": [
        {
          "output_type": "stream",
          "text": [
            "<torch.utils.data.dataset.TensorDataset object at 0x7fbe38097710>\n",
            "<torch.utils.data.dataset.TensorDataset object at 0x7fbe380974e0>\n"
          ],
          "name": "stdout"
        }
      ]
    },
    {
      "cell_type": "markdown",
      "metadata": {
        "id": "IUcTzBV29pa8"
      },
      "source": [
        "### 다층 nn.Linear를 이용한 모델"
      ]
    },
    {
      "cell_type": "code",
      "metadata": {
        "id": "b2y0aa9F9atH"
      },
      "source": [
        "k = 100\r\n",
        "\r\n",
        "net = nn.Sequential(\r\n",
        "    nn.Linear(64,k),\r\n",
        "    nn.ReLU(),\r\n",
        "    nn.Linear(k, k),\r\n",
        "    nn.ReLU(),\r\n",
        "    nn.Linear(k, k),\r\n",
        "    nn.ReLU(),\r\n",
        "    nn.Linear(k, k),\r\n",
        "    nn.ReLU(),\r\n",
        "    nn.Linear(k, k),\r\n",
        "    nn.ReLU(),\r\n",
        "    nn.Linear(k, 10)\r\n",
        "\r\n",
        ")"
      ],
      "execution_count": null,
      "outputs": []
    },
    {
      "cell_type": "markdown",
      "metadata": {
        "id": "gfjSyxCZ-B7A"
      },
      "source": [
        "=> Overfit 유도를 위해서, network를 깊고, 복잡하고 크게 만들었다.<br>\r\n",
        "   이런 경우, 학습데이터가 작기 때문에, 완전히 암기해버려서 overfit이 매우 잘 발생"
      ]
    },
    {
      "cell_type": "markdown",
      "metadata": {
        "id": "zycuA2xg-WU8"
      },
      "source": [
        "### Loss함수: CrossEntropy"
      ]
    },
    {
      "cell_type": "code",
      "metadata": {
        "id": "ZmDF585R98l-"
      },
      "source": [
        "loss_fn = nn.CrossEntropyLoss()\r\n",
        "optimizer = optim.SGD(net.parameters(), lr=0.01)"
      ],
      "execution_count": null,
      "outputs": []
    },
    {
      "cell_type": "markdown",
      "metadata": {
        "id": "PFdp3WcM-ecW"
      },
      "source": [
        "### 학습 시작"
      ]
    },
    {
      "cell_type": "code",
      "metadata": {
        "colab": {
          "base_uri": "https://localhost:8080/"
        },
        "id": "iBNNyoFK-cIm",
        "outputId": "cf8a2a7a-1c65-4088-a3a2-d30eb3f03ef3"
      },
      "source": [
        "train_losses = []\r\n",
        "test_losses = []\r\n",
        "net.to('cuda')\r\n",
        "\r\n",
        "for epoc in range(100):\r\n",
        "\r\n",
        "  batch_loss = 0.0\r\n",
        "  net.train()\r\n",
        "\r\n",
        "  for x_train, y_train in train_dataloader:\r\n",
        "    \r\n",
        "    optimizer.zero_grad()\r\n",
        "\r\n",
        "    y_pred = net(x_train)\r\n",
        "    loss = loss_fn(y_pred, y_train)\r\n",
        "    loss.backward()\r\n",
        "\r\n",
        "    optimizer.step()\r\n",
        "    batch_loss += loss.item()\r\n",
        "  train_losses.append(batch_loss)\r\n",
        "  print(epoc, 'Loss: ', batch_loss)\r\n",
        "\r\n",
        "  # 학습 epoch마다, 테스트를 수행해서 loss 값을 계산\r\n",
        "  net.eval()\r\n",
        "\r\n",
        "  with torch.no_grad():\r\n",
        "    for x_test, y_test in test_dataloader:\r\n",
        "      test_result = net(x_test)\r\n",
        "      test_loss = loss_fn(test_result, y_test)\r\n",
        "      test_losses.append(test_loss.item())"
      ],
      "execution_count": null,
      "outputs": [
        {
          "output_type": "stream",
          "text": [
            "0 Loss:  0.1649640363175422\n",
            "1 Loss:  0.15505658117763232\n",
            "2 Loss:  0.14704140328103676\n",
            "3 Loss:  0.14147242551553063\n",
            "4 Loss:  0.13970019266707823\n",
            "5 Loss:  0.14326056715799496\n",
            "6 Loss:  0.13506703253369778\n",
            "7 Loss:  0.1419484012731118\n",
            "8 Loss:  0.12702689255820587\n",
            "9 Loss:  0.12934333743760362\n",
            "10 Loss:  0.1213108102674596\n",
            "11 Loss:  0.11596294106857385\n",
            "12 Loss:  0.12260887524462305\n",
            "13 Loss:  0.11368024576222524\n",
            "14 Loss:  0.10953952390991617\n",
            "15 Loss:  0.11706335179042071\n",
            "16 Loss:  0.11129434514441527\n",
            "17 Loss:  0.10503701743436977\n",
            "18 Loss:  0.10394951191847213\n",
            "19 Loss:  0.10151290543581126\n",
            "20 Loss:  0.10377727981540374\n",
            "21 Loss:  0.0943108131068584\n",
            "22 Loss:  0.09423668529780116\n",
            "23 Loss:  0.09236741216591327\n",
            "24 Loss:  0.09199888829607517\n",
            "25 Loss:  0.0880789234652184\n",
            "26 Loss:  0.09339171009196434\n",
            "27 Loss:  0.08814790334145073\n",
            "28 Loss:  0.09122126636793837\n",
            "29 Loss:  0.09290312062512385\n",
            "30 Loss:  0.08276552876122878\n",
            "31 Loss:  0.0828812156105414\n",
            "32 Loss:  0.07877577572799055\n",
            "33 Loss:  0.0812047672807239\n",
            "34 Loss:  0.0814201499306364\n",
            "35 Loss:  0.07712386822458939\n",
            "36 Loss:  0.07483614292868879\n",
            "37 Loss:  0.07327202948727063\n",
            "38 Loss:  0.07491238800866995\n",
            "39 Loss:  0.07279050005308818\n",
            "40 Loss:  0.07154416176490486\n",
            "41 Loss:  0.07125574735982809\n",
            "42 Loss:  0.0682966306048911\n",
            "43 Loss:  0.06794649783114437\n",
            "44 Loss:  0.06727627129293978\n",
            "45 Loss:  0.068388798244996\n",
            "46 Loss:  0.06543223933840636\n",
            "47 Loss:  0.06473940629075514\n",
            "48 Loss:  0.06490284901519772\n",
            "49 Loss:  0.06315770573564805\n",
            "50 Loss:  0.06164629462000448\n",
            "51 Loss:  0.06023576519510243\n",
            "52 Loss:  0.06067079738568282\n",
            "53 Loss:  0.06080633353849407\n",
            "54 Loss:  0.06061557562134112\n",
            "55 Loss:  0.058588251704350114\n",
            "56 Loss:  0.060224639128136914\n",
            "57 Loss:  0.05691543284410727\n",
            "58 Loss:  0.055311007599812\n",
            "59 Loss:  0.05715966803836636\n",
            "60 Loss:  0.05449502416013274\n",
            "61 Loss:  0.053944739476719406\n",
            "62 Loss:  0.05340352033817908\n",
            "63 Loss:  0.053477746063435916\n",
            "64 Loss:  0.05158110116099124\n",
            "65 Loss:  0.05278254969744012\n",
            "66 Loss:  0.05134506067406619\n",
            "67 Loss:  0.04994551705021877\n",
            "68 Loss:  0.05136713477986632\n",
            "69 Loss:  0.05241868169105146\n",
            "70 Loss:  0.05204684450291097\n",
            "71 Loss:  0.048218928757705726\n",
            "72 Loss:  0.0492853561299853\n",
            "73 Loss:  0.04869915702511207\n",
            "74 Loss:  0.04580819359398447\n",
            "75 Loss:  0.04581710809998185\n",
            "76 Loss:  0.047628269720007665\n",
            "77 Loss:  0.045547409645223524\n",
            "78 Loss:  0.0466073213974596\n",
            "79 Loss:  0.04602054978022352\n",
            "80 Loss:  0.04412215208321868\n",
            "81 Loss:  0.04392805407769629\n",
            "82 Loss:  0.04319618098452338\n",
            "83 Loss:  0.042843844974413514\n",
            "84 Loss:  0.04354790822981158\n",
            "85 Loss:  0.04246786574367434\n",
            "86 Loss:  0.04184872398036532\n",
            "87 Loss:  0.04140268059563823\n",
            "88 Loss:  0.04077753471574397\n",
            "89 Loss:  0.03995134442084236\n",
            "90 Loss:  0.03983408768544905\n",
            "91 Loss:  0.04071071674115956\n",
            "92 Loss:  0.039224007712618914\n",
            "93 Loss:  0.03959353624668438\n",
            "94 Loss:  0.038408316460845526\n",
            "95 Loss:  0.03891910594938963\n",
            "96 Loss:  0.03792793281536433\n",
            "97 Loss:  0.038498024150612764\n",
            "98 Loss:  0.036992969624407124\n",
            "99 Loss:  0.03738899708696408\n"
          ],
          "name": "stdout"
        }
      ]
    },
    {
      "cell_type": "code",
      "metadata": {
        "colab": {
          "base_uri": "https://localhost:8080/",
          "height": 269
        },
        "id": "g3mWriiUA1lK",
        "outputId": "ddf92892-aa23-4009-cb67-ea04e8cb8d15"
      },
      "source": [
        "plt.plot(train_losses, label='train')\r\n",
        "plt.plot(test_losses, label='test')\r\n",
        "plt.legend(loc='upper right')\r\n",
        "plt.ylim((0, 2.0))\r\n",
        "plt.show()"
      ],
      "execution_count": null,
      "outputs": [
        {
          "output_type": "display_data",
          "data": {
            "image/png": "[encoded data removed]",
            "text/plain": [
              "<Figure size 432x288 with 1 Axes>"
            ]
          },
          "metadata": {
            "tags": [],
            "needs_background": "light"
          }
        }
      ]
    },
    {
      "cell_type": "markdown",
      "metadata": {
        "id": "sZWEkf73CmxT"
      },
      "source": [
        "=> 학습데이터의 loss가 테스트보다 작다. 따라서, 학습 데이터에 최적화된 결과를 보여준다. overfit이 발생된 것이다."
      ]
    },
    {
      "cell_type": "markdown",
      "metadata": {
        "id": "HCXp2ebuCzuY"
      },
      "source": [
        "### Dropout: overfit 해결\r\n",
        "과학습을 방지하는 것을 정규화(regularization)이라고 한다.<br>\r\n",
        "Dropout이라는 것이 자주 사용되는데, 입력의 일부분을 랜덤으로 사용하지 않는 방법이다.\r\n",
        "<br><br>\r\n",
        "Dropout을 하게 되면, 값을 지정된 확률 p에 따라 0으로 설정<br>\r\n",
        "예를들어, (1.0, 1.0, 1.0)이라는 3차원 값이 있고, drop확률 p=0.5이면 각 값에 대해서 동전을 던져 앞면이 나오면 0으로 설정<br><br>\r\n",
        "왜 살아남은 값들은 1/(1-p)를 곱해주는가?<br>\r\n",
        "그 값들을 '강'하게 해서, 그 값들에 집중된 학습이 이루어지도록 함."
      ]
    },
    {
      "cell_type": "markdown",
      "metadata": {
        "id": "8goGu7TDDiX6"
      },
      "source": [
        "## Dropout 예제\r\n",
        "### Input tensor 생성"
      ]
    },
    {
      "cell_type": "code",
      "metadata": {
        "colab": {
          "base_uri": "https://localhost:8080/"
        },
        "id": "aWdDYGiN_fLc",
        "outputId": "04b18e04-099b-4058-b84c-a65f3baff520"
      },
      "source": [
        "import torch\r\n",
        "from torch import nn\r\n",
        "\r\n",
        "input = torch.tensor([1.0, 1.0, 1.0, 1.0, 1.0, 1.0, 1.0, 1.0, 1.0, 1.0], dtype=torch.float)\r\n",
        "print('Input: ', input)"
      ],
      "execution_count": null,
      "outputs": [
        {
          "output_type": "stream",
          "text": [
            "Input:  tensor([1., 1., 1., 1., 1., 1., 1., 1., 1., 1.])\n"
          ],
          "name": "stdout"
        }
      ]
    },
    {
      "cell_type": "markdown",
      "metadata": {
        "id": "9U4GWgvnD2kG"
      },
      "source": [
        "### Dropout 적용: 50%의 값을 0으로 설정"
      ]
    },
    {
      "cell_type": "code",
      "metadata": {
        "colab": {
          "base_uri": "https://localhost:8080/"
        },
        "id": "cncAGHtmD1On",
        "outputId": "b7e24ff6-473b-47a0-d20a-1837e10cee26"
      },
      "source": [
        "m = nn.Dropout(p=0.5)\r\n",
        "dropped_input = m(input)\r\n",
        "print('Dropped: ', dropped_input)\r\n",
        "\r\n",
        "# 꼭 0.5의 확률로 안될 수 있음!"
      ],
      "execution_count": null,
      "outputs": [
        {
          "output_type": "stream",
          "text": [
            "Dropped:  tensor([2., 0., 0., 2., 2., 0., 2., 0., 0., 2.])\n"
          ],
          "name": "stdout"
        }
      ]
    },
    {
      "cell_type": "markdown",
      "metadata": {
        "id": "Vmk4dktyEIoI"
      },
      "source": [
        "##### 주의할 점!\r\n",
        "- dropout은 학습시킬 때만 사용하고 테스트할 때는, dropout없이 진행한다."
      ]
    },
    {
      "cell_type": "markdown",
      "metadata": {
        "id": "uYGMW__qEYIK"
      },
      "source": [
        "### 다층 nn.Linear를 이용한 모델"
      ]
    },
    {
      "cell_type": "code",
      "metadata": {
        "id": "QCRCorqiEAJo"
      },
      "source": [
        "k = 100\r\n",
        "drop_prob = 0.1   # 입력값의 0.1은 zero로 만들고, 나머지는 10/9 곱해서 강하게 만들어준다.\r\n",
        "\r\n",
        "net = nn.Sequential(\r\n",
        "    nn.Linear(64,k),\r\n",
        "    nn.ReLU(),\r\n",
        "    nn.Dropout(drop_prob),\r\n",
        "    nn.Linear(k, k),\r\n",
        "    nn.ReLU(),\r\n",
        "    nn.Dropout(drop_prob),\r\n",
        "    nn.Linear(k, k),\r\n",
        "    nn.ReLU(),\r\n",
        "    nn.Dropout(drop_prob),\r\n",
        "    nn.Linear(k, k),\r\n",
        "    nn.ReLU(),\r\n",
        "    nn.Dropout(drop_prob),\r\n",
        "    nn.Linear(k, k),\r\n",
        "    nn.ReLU(),\r\n",
        "    nn.Dropout(drop_prob),\r\n",
        "    nn.Linear(k, 10)\r\n",
        ")"
      ],
      "execution_count": null,
      "outputs": []
    },
    {
      "cell_type": "code",
      "metadata": {
        "id": "j-tX3lZBEl6o"
      },
      "source": [
        "loss_fn = nn.CrossEntropyLoss()\r\n",
        "optimizer = optim.SGD(net.parameters(), lr=0.01)"
      ],
      "execution_count": null,
      "outputs": []
    },
    {
      "cell_type": "code",
      "metadata": {
        "colab": {
          "base_uri": "https://localhost:8080/"
        },
        "id": "GtFIW9UxFBF9",
        "outputId": "9b46e8f2-07cf-4f56-8e2e-707543123b1d"
      },
      "source": [
        "train_losses = []\r\n",
        "test_losses = []\r\n",
        "net.to('cuda')\r\n",
        "\r\n",
        "for epoc in range(100):\r\n",
        "\r\n",
        "  batch_loss = 0.0\r\n",
        "  net.train()\r\n",
        "\r\n",
        "  for x_train, y_train in train_dataloader:\r\n",
        "    \r\n",
        "    optimizer.zero_grad()\r\n",
        "\r\n",
        "    y_pred = net(x_train)\r\n",
        "    loss = loss_fn(y_pred, y_train)\r\n",
        "    loss.backward()\r\n",
        "\r\n",
        "    optimizer.step()\r\n",
        "    batch_loss += loss.item()\r\n",
        "  train_losses.append(batch_loss)\r\n",
        "  print(epoc, 'Loss: ', batch_loss)\r\n",
        "\r\n",
        "  # 학습 epoch마다, 테스트를 수행해서 loss 값을 계산\r\n",
        "  net.eval()\r\n",
        "\r\n",
        "  with torch.no_grad():\r\n",
        "    for x_test, y_test in test_dataloader:\r\n",
        "      test_result = net(x_test)\r\n",
        "      test_loss = loss_fn(test_result, y_test)\r\n",
        "      test_losses.append(test_loss.item())"
      ],
      "execution_count": null,
      "outputs": [
        {
          "output_type": "stream",
          "text": [
            "0 Loss:  1.2274721418507397\n",
            "1 Loss:  1.4616676471196115\n",
            "2 Loss:  1.2536605914356187\n",
            "3 Loss:  1.3232005120953545\n",
            "4 Loss:  1.2856447659432888\n",
            "5 Loss:  1.0079174325801432\n",
            "6 Loss:  1.0189665144425817\n",
            "7 Loss:  0.8728343120310456\n",
            "8 Loss:  1.1216764524579048\n",
            "9 Loss:  1.0640793509082869\n",
            "10 Loss:  0.816637855314184\n",
            "11 Loss:  1.3077348491060548\n",
            "12 Loss:  1.082398119266145\n",
            "13 Loss:  1.1988074319742736\n",
            "14 Loss:  1.1005054241977632\n",
            "15 Loss:  1.6264408297138289\n",
            "16 Loss:  1.3722684052190743\n",
            "17 Loss:  0.7514042318216525\n",
            "18 Loss:  0.9920904718455859\n",
            "19 Loss:  1.0544778372277506\n",
            "20 Loss:  0.9213335408712737\n",
            "21 Loss:  1.3264856223831885\n",
            "22 Loss:  0.9822904956527054\n",
            "23 Loss:  1.0405261600972153\n",
            "24 Loss:  0.9614466717466712\n",
            "25 Loss:  1.5819905028911307\n",
            "26 Loss:  1.0770256340038031\n",
            "27 Loss:  1.0715905564429704\n",
            "28 Loss:  0.764849406608846\n",
            "29 Loss:  0.8783181300968863\n",
            "30 Loss:  0.7610447377082892\n",
            "31 Loss:  0.8902487781015225\n",
            "32 Loss:  0.7392407862935215\n",
            "33 Loss:  0.7799405862460844\n",
            "34 Loss:  1.0822664010629524\n",
            "35 Loss:  1.7035488044202793\n",
            "36 Loss:  0.9368739862111397\n",
            "37 Loss:  0.9023265372379683\n",
            "38 Loss:  0.512717289821012\n",
            "39 Loss:  0.8675734221178573\n",
            "40 Loss:  0.47965214028954506\n",
            "41 Loss:  0.7071033368993085\n",
            "42 Loss:  0.7873466326855123\n",
            "43 Loss:  0.975104037381243\n",
            "44 Loss:  0.7403777806466678\n",
            "45 Loss:  0.7967458834755234\n",
            "46 Loss:  0.5215796864940785\n",
            "47 Loss:  0.5868133988697082\n",
            "48 Loss:  0.6788493153289892\n",
            "49 Loss:  0.9590303654404124\n",
            "50 Loss:  0.4824764221557416\n",
            "51 Loss:  0.7987409403431229\n",
            "52 Loss:  0.7411481222952716\n",
            "53 Loss:  0.5807094172341749\n",
            "54 Loss:  0.4720057284430368\n",
            "55 Loss:  0.4073103625778458\n",
            "56 Loss:  0.830807522899704\n",
            "57 Loss:  0.5494329457287677\n",
            "58 Loss:  0.8509457531181397\n",
            "59 Loss:  0.7342004266101867\n",
            "60 Loss:  0.8448730270029046\n",
            "61 Loss:  0.5647493014766951\n",
            "62 Loss:  0.7841771545354277\n",
            "63 Loss:  0.41596370241313707\n",
            "64 Loss:  0.42921010276768357\n",
            "65 Loss:  0.5065231167245656\n",
            "66 Loss:  0.6633987746026833\n",
            "67 Loss:  0.45769124280195683\n",
            "68 Loss:  0.5181567035615444\n",
            "69 Loss:  0.6897360270959325\n",
            "70 Loss:  0.4464880982268369\n",
            "71 Loss:  0.415185940284573\n",
            "72 Loss:  0.52408002995071\n",
            "73 Loss:  0.44551503943512216\n",
            "74 Loss:  0.5492533426586306\n",
            "75 Loss:  0.6965522939572111\n",
            "76 Loss:  0.4274430593359284\n",
            "77 Loss:  0.4817290628270712\n",
            "78 Loss:  0.411888839371386\n",
            "79 Loss:  0.510218403316685\n",
            "80 Loss:  0.7053486769873416\n",
            "81 Loss:  0.4228169300768059\n",
            "82 Loss:  0.2914587315171957\n",
            "83 Loss:  0.5605986443406437\n",
            "84 Loss:  0.3855299235583516\n",
            "85 Loss:  0.6208420294278767\n",
            "86 Loss:  0.5763657717761816\n",
            "87 Loss:  0.5171599116874859\n",
            "88 Loss:  0.5016838714072946\n",
            "89 Loss:  0.43495315170730464\n",
            "90 Loss:  0.6790494502492948\n",
            "91 Loss:  0.5475596223113826\n",
            "92 Loss:  0.3744116065936396\n",
            "93 Loss:  0.34698612974898424\n",
            "94 Loss:  0.4652004449162632\n",
            "95 Loss:  0.4250564054091228\n",
            "96 Loss:  0.5311743046622723\n",
            "97 Loss:  0.2917723958089482\n",
            "98 Loss:  0.4322184695774922\n",
            "99 Loss:  0.3714887631649617\n"
          ],
          "name": "stdout"
        }
      ]
    },
    {
      "cell_type": "code",
      "metadata": {
        "colab": {
          "base_uri": "https://localhost:8080/",
          "height": 269
        },
        "id": "i0aXzTEcFDPR",
        "outputId": "bbc76501-8801-4b92-bed9-bff14a4702e2"
      },
      "source": [
        "plt.plot(train_losses, label='train')\r\n",
        "plt.plot(test_losses, label='test')\r\n",
        "plt.legend(loc='upper right')\r\n",
        "plt.ylim((0, 2.0))\r\n",
        "plt.show()"
      ],
      "execution_count": null,
      "outputs": [
        {
          "output_type": "display_data",
          "data": {
            "image/png": "[encoded data removed]",
            "text/plain": [
              "<Figure size 432x288 with 1 Axes>"
            ]
          },
          "metadata": {
            "tags": [],
            "needs_background": "light"
          }
        }
      ]
    },
    {
      "cell_type": "markdown",
      "metadata": {
        "id": "VK61pOWyFVCs"
      },
      "source": [
        "=> Dropout으로 인해서 학습 loss가 들쭉날쭉하다. 즉, 암기를 하지 않았다는 뜻이다. 실제 평가에 들어가면 우수한 성적을 낸다."
      ]
    }
  ]
}
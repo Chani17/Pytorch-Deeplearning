{
  "nbformat": 4,
  "nbformat_minor": 0,
  "metadata": {
    "colab": {
      "name": "Dataset_Dataloader",
      "provenance": [],
      "collapsed_sections": [],
      "authorship_tag": "ABX9TyOPQtfMjYXxq+d4oel617pF"
    },
    "kernelspec": {
      "name": "python3",
      "display_name": "Python 3"
    },
    "accelerator": "GPU"
  },
  "cells": [
    {
      "cell_type": "markdown",
      "metadata": {
        "id": "6ojOTc1hPbxY"
      },
      "source": [
        "## Mini-batch를 손쉽게 만들어주는 Dataset과 DataLoader\r\n",
        "전체 데이터가 주어졌을 때, 이를 mini-batch들로 나누고, 학습 때마다 mini-batch단위로 제공하는 일을 쉽게 처리해주는 역할 수행\r\n",
        "- Dataset: 전체 데이터를 포함하는 container 역할\r\n",
        "- DataLoader: Dataset에서 mini-batch 단위로 데이터를 가져오는 역할"
      ]
    },
    {
      "cell_type": "markdown",
      "metadata": {
        "id": "Dwj67oSXP-Tw"
      },
      "source": [
        "### Dataset과 DataLoader를 이용한 digit 구분 예제"
      ]
    },
    {
      "cell_type": "markdown",
      "metadata": {
        "id": "vt9fx-CXQ12E"
      },
      "source": [
        "### 손글씨 숫자 데이터 분류"
      ]
    },
    {
      "cell_type": "code",
      "metadata": {
        "id": "7wix682SPQVC"
      },
      "source": [
        "import torch\r\n",
        "from torch import nn, optim\r\n",
        "from sklearn.datasets import load_digits\r\n",
        "import matplotlib.pyplot as plt"
      ],
      "execution_count": null,
      "outputs": []
    },
    {
      "cell_type": "code",
      "metadata": {
        "colab": {
          "base_uri": "https://localhost:8080/"
        },
        "id": "-2tumqFlQ7Ng",
        "outputId": "185f1929-6ccc-47ad-a261-55e592c672c1"
      },
      "source": [
        "digits = load_digits()\r\n",
        "\r\n",
        "X = digits.data\r\n",
        "print(type(X))\r\n",
        "print(X.shape)\r\n",
        "\r\n",
        "y = digits.target\r\n",
        "print(type(y))\r\n",
        "print(y.shape)\r\n",
        "print(y)"
      ],
      "execution_count": null,
      "outputs": [
        {
          "output_type": "stream",
          "text": [
            "<class 'numpy.ndarray'>\n",
            "(1797, 64)\n",
            "<class 'numpy.ndarray'>\n",
            "(1797,)\n",
            "[0 1 2 ... 8 9 8]\n"
          ],
          "name": "stdout"
        }
      ]
    },
    {
      "cell_type": "markdown",
      "metadata": {
        "id": "a_lzk9TGQ_ka"
      },
      "source": [
        "### 학습과 테스트 데이터 분류"
      ]
    },
    {
      "cell_type": "code",
      "metadata": {
        "colab": {
          "base_uri": "https://localhost:8080/"
        },
        "id": "0JMcOYr5Q-tW",
        "outputId": "e40374e0-524b-4dea-d2e7-2a4723821088"
      },
      "source": [
        "from sklearn.model_selection import train_test_split\r\n",
        "\r\n",
        "x_train, x_test, y_train, y_test = train_test_split(X, y, test_size=0.1, shuffle=True)\r\n",
        "\r\n",
        "print('Type: x_train, y_train, x_test, y_test')\r\n",
        "print(type(x_train), type(y_train), type(x_test), type(y_test))\r\n",
        "\r\n",
        "print('Type: x_train, y_train, x_test, y_test')\r\n",
        "print(x_train.shape, y_train.shape, x_test.shape, y_test.shape)"
      ],
      "execution_count": null,
      "outputs": [
        {
          "output_type": "stream",
          "text": [
            "Type: x_train, y_train, x_test, y_test\n",
            "<class 'numpy.ndarray'> <class 'numpy.ndarray'> <class 'numpy.ndarray'> <class 'numpy.ndarray'>\n",
            "Type: x_train, y_train, x_test, y_test\n",
            "(1617, 64) (1617,) (180, 64) (180,)\n"
          ],
          "name": "stdout"
        }
      ]
    },
    {
      "cell_type": "markdown",
      "metadata": {
        "id": "BVgyICNuRFcY"
      },
      "source": [
        "### Tensor로 변환"
      ]
    },
    {
      "cell_type": "code",
      "metadata": {
        "id": "SQT9BSgYREpb"
      },
      "source": [
        "x_train = torch.tensor(x_train, dtype=torch.float).to('cuda')\r\n",
        "y_train = torch.tensor(y_train, dtype=torch.long).to('cuda')\r\n",
        "x_test = torch.tensor(x_test, dtype=torch.float).to('cuda')\r\n",
        "y_test = torch.tensor(y_test, dtype=torch.long).to('cuda')"
      ],
      "execution_count": null,
      "outputs": []
    },
    {
      "cell_type": "markdown",
      "metadata": {
        "id": "WNYf11ZTRfe9"
      },
      "source": [
        "- Dataset과 DataLoader를 구성: 기본 TensorDataset, DataLoader 이용\r\n",
        "- Train batch size = 64\r\n",
        "- Test batch size = 10,000"
      ]
    },
    {
      "cell_type": "markdown",
      "metadata": {
        "id": "uj-M7NunRa1Z"
      },
      "source": [
        "### Dataset을 만든다. (비유: 약수물을 정수기 통에 담는다)"
      ]
    },
    {
      "cell_type": "code",
      "metadata": {
        "colab": {
          "base_uri": "https://localhost:8080/"
        },
        "id": "ZSpSLA3zRLQO",
        "outputId": "6034e7d2-aeb0-4b3f-f254-a98a3772f418"
      },
      "source": [
        "from torch.utils.data import TensorDataset, DataLoader\r\n",
        "\r\n",
        "train_dataset = TensorDataset(x_train, y_train)\r\n",
        "test_dataset = TensorDataset(x_test, y_test)\r\n",
        "\r\n",
        "print(train_dataset)\r\n",
        "print(test_dataset)"
      ],
      "execution_count": null,
      "outputs": [
        {
          "output_type": "stream",
          "text": [
            "<torch.utils.data.dataset.TensorDataset object at 0x7fe445541f60>\n",
            "<torch.utils.data.dataset.TensorDataset object at 0x7fe445541e80>\n"
          ],
          "name": "stdout"
        }
      ]
    },
    {
      "cell_type": "markdown",
      "metadata": {
        "id": "P0fdXFhrSR8a"
      },
      "source": [
        "### Dataloader를 만든다. (비유: 정수기 물통애 냉수 파이프와 온수 파이프를 설치한다.)"
      ]
    },
    {
      "cell_type": "code",
      "metadata": {
        "colab": {
          "base_uri": "https://localhost:8080/"
        },
        "id": "t0ypha2JR_tv",
        "outputId": "e0f70f25-ec96-4303-8f59-990cc9b5eb96"
      },
      "source": [
        "train_dataloader = DataLoader(train_dataset, batch_size=64, shuffle=True)\r\n",
        "test_dataloader = DataLoader(test_dataset, batch_size=10000, shuffle=True)  # 한번에 시험보려고(있는 만큼) -> 그래서 batch_size를 10000으로 설정\r\n",
        "\r\n",
        "print(train_dataset)\r\n",
        "print(test_dataset)"
      ],
      "execution_count": null,
      "outputs": [
        {
          "output_type": "stream",
          "text": [
            "<torch.utils.data.dataset.TensorDataset object at 0x7fe445541f60>\n",
            "<torch.utils.data.dataset.TensorDataset object at 0x7fe445541e80>\n"
          ],
          "name": "stdout"
        }
      ]
    },
    {
      "cell_type": "markdown",
      "metadata": {
        "id": "ZQ2jJhdzS8nb"
      },
      "source": [
        "### 학습을 위한 모델, Loss, Optimizer 설정"
      ]
    },
    {
      "cell_type": "code",
      "metadata": {
        "id": "7nu7NGr7Smtr"
      },
      "source": [
        "net = nn.Linear(64,10)\r\n",
        "loss_fn = nn.CrossEntropyLoss()\r\n",
        "optimizer = optim.SGD(net.parameters(), lr=0.01)"
      ],
      "execution_count": null,
      "outputs": []
    },
    {
      "cell_type": "markdown",
      "metadata": {
        "id": "I7TnoEwjTKnJ"
      },
      "source": [
        "### 학습 시작\r\n",
        "- net의 parameter 업데이트는 mini-batch마다 수행"
      ]
    },
    {
      "cell_type": "code",
      "metadata": {
        "colab": {
          "base_uri": "https://localhost:8080/"
        },
        "id": "pIGUCp7tTIks",
        "outputId": "60dae7cb-c38f-489f-f0b1-f63dee85b8a1"
      },
      "source": [
        "losses = []\r\n",
        "net.train()\r\n",
        "net.to('cuda')\r\n",
        "\r\n",
        "for epoc in range(200):\r\n",
        "\r\n",
        "  batch_loss = 0.0\r\n",
        "\r\n",
        "  for x_train, y_train in train_dataloader:\r\n",
        "    \r\n",
        "    optimizer.zero_grad()\r\n",
        "\r\n",
        "    y_pred = net(x_train)\r\n",
        "    loss = loss_fn(y_pred, y_train)\r\n",
        "    loss.backward()\r\n",
        "\r\n",
        "    optimizer.step()\r\n",
        "    batch_loss += loss.item()\r\n",
        "  losses.append(batch_loss)\r\n",
        "  print(epoc, 'Loss: ', batch_loss)"
      ],
      "execution_count": null,
      "outputs": [
        {
          "output_type": "stream",
          "text": [
            "0 Loss:  0.46635191002860665\n",
            "1 Loss:  0.4676079759374261\n",
            "2 Loss:  0.4663966214284301\n",
            "3 Loss:  0.4548479770310223\n",
            "4 Loss:  0.4606842864304781\n",
            "5 Loss:  0.46465410850942135\n",
            "6 Loss:  0.4536784151569009\n",
            "7 Loss:  0.4534500348381698\n",
            "8 Loss:  0.4636003663763404\n",
            "9 Loss:  0.4443969433195889\n",
            "10 Loss:  0.46138421120122075\n",
            "11 Loss:  0.46612182911485434\n",
            "12 Loss:  0.4721441864967346\n",
            "13 Loss:  0.4459324600175023\n",
            "14 Loss:  0.4350476944819093\n",
            "15 Loss:  0.4316976321861148\n",
            "16 Loss:  0.4358589353505522\n",
            "17 Loss:  0.4856923711486161\n",
            "18 Loss:  0.4484670921228826\n",
            "19 Loss:  0.4367680959403515\n",
            "20 Loss:  0.4179342184215784\n",
            "21 Loss:  0.43268992751836777\n",
            "22 Loss:  0.42538636503741145\n",
            "23 Loss:  0.42257563956081867\n",
            "24 Loss:  0.4704193794168532\n",
            "25 Loss:  0.4312793263234198\n",
            "26 Loss:  0.4442404783330858\n",
            "27 Loss:  0.42282167822122574\n",
            "28 Loss:  0.42666349303908646\n",
            "29 Loss:  0.41374709107913077\n",
            "30 Loss:  0.432695540599525\n",
            "31 Loss:  0.44111747201532125\n",
            "32 Loss:  0.4162309840321541\n",
            "33 Loss:  0.42037049727514386\n",
            "34 Loss:  0.4130399711430073\n",
            "35 Loss:  0.41104944376274943\n",
            "36 Loss:  0.40170862479135394\n",
            "37 Loss:  0.3994508106261492\n",
            "38 Loss:  0.41602135123685\n",
            "39 Loss:  0.4113908428698778\n",
            "40 Loss:  0.41054075537249446\n",
            "41 Loss:  0.4196896171197295\n",
            "42 Loss:  0.4084748341701925\n",
            "43 Loss:  0.39160153083503246\n",
            "44 Loss:  0.3873669346794486\n",
            "45 Loss:  0.3905854453332722\n",
            "46 Loss:  0.3954818705096841\n",
            "47 Loss:  0.4093110882677138\n",
            "48 Loss:  0.3745779184391722\n",
            "49 Loss:  0.3875392359041143\n",
            "50 Loss:  0.390294685959816\n",
            "51 Loss:  0.3840918280184269\n",
            "52 Loss:  0.38557105232030153\n",
            "53 Loss:  0.3780677760951221\n",
            "54 Loss:  0.39226435869932175\n",
            "55 Loss:  0.3747413775417954\n",
            "56 Loss:  0.3863544911146164\n",
            "57 Loss:  0.3740320587530732\n",
            "58 Loss:  0.42171476688236\n",
            "59 Loss:  0.3991632522083819\n",
            "60 Loss:  0.3792516593821347\n",
            "61 Loss:  0.40156389586627483\n",
            "62 Loss:  0.378060057759285\n",
            "63 Loss:  0.3746763961389661\n",
            "64 Loss:  0.3691129870712757\n",
            "65 Loss:  0.3753836010582745\n",
            "66 Loss:  0.38062913389876485\n",
            "67 Loss:  0.3661009732168168\n",
            "68 Loss:  0.3789070362690836\n",
            "69 Loss:  0.3708420656621456\n",
            "70 Loss:  0.3890819656662643\n",
            "71 Loss:  0.3895310899242759\n",
            "72 Loss:  0.372391561511904\n",
            "73 Loss:  0.369448303245008\n",
            "74 Loss:  0.35872105159796774\n",
            "75 Loss:  0.35567360068671405\n",
            "76 Loss:  0.35109762102365494\n",
            "77 Loss:  0.3617560504935682\n",
            "78 Loss:  0.3565219477750361\n",
            "79 Loss:  0.3619907214306295\n",
            "80 Loss:  0.3452632208354771\n",
            "81 Loss:  0.34699128149077296\n",
            "82 Loss:  0.37064272118732333\n",
            "83 Loss:  0.36586870439350605\n",
            "84 Loss:  0.34826884092763066\n",
            "85 Loss:  0.34539498784579337\n",
            "86 Loss:  0.34728848934173584\n",
            "87 Loss:  0.35868386016227305\n",
            "88 Loss:  0.3467932753264904\n",
            "89 Loss:  0.3458646349608898\n",
            "90 Loss:  0.3476479290984571\n",
            "91 Loss:  0.35196553356945515\n",
            "92 Loss:  0.3397896424867213\n",
            "93 Loss:  0.3438823255710304\n",
            "94 Loss:  0.3403999279253185\n",
            "95 Loss:  0.33273787098005414\n",
            "96 Loss:  0.3472628900781274\n",
            "97 Loss:  0.34171746810898185\n",
            "98 Loss:  0.3452623700723052\n",
            "99 Loss:  0.3325026477687061\n",
            "100 Loss:  0.331834624055773\n",
            "101 Loss:  0.3471874473616481\n",
            "102 Loss:  0.33081477833911777\n",
            "103 Loss:  0.3326511906925589\n",
            "104 Loss:  0.3364580678753555\n",
            "105 Loss:  0.34561264095827937\n",
            "106 Loss:  0.3364944336935878\n",
            "107 Loss:  0.319948484771885\n",
            "108 Loss:  0.33980324515141547\n",
            "109 Loss:  0.3455251716077328\n",
            "110 Loss:  0.3189216870814562\n",
            "111 Loss:  0.3254647199064493\n",
            "112 Loss:  0.33403947623446584\n",
            "113 Loss:  0.3299243033397943\n",
            "114 Loss:  0.32176943658851087\n",
            "115 Loss:  0.3311899225227535\n",
            "116 Loss:  0.32324423524551094\n",
            "117 Loss:  0.3407296375371516\n",
            "118 Loss:  0.3196715051308274\n",
            "119 Loss:  0.3248681705445051\n",
            "120 Loss:  0.3171572652645409\n",
            "121 Loss:  0.31714707193896174\n",
            "122 Loss:  0.32377889286726713\n",
            "123 Loss:  0.31664926558732986\n",
            "124 Loss:  0.31428565783426166\n",
            "125 Loss:  0.32923846831545234\n",
            "126 Loss:  0.3164395336061716\n",
            "127 Loss:  0.3122066108044237\n",
            "128 Loss:  0.3076495861168951\n",
            "129 Loss:  0.3139698435552418\n",
            "130 Loss:  0.31665124651044607\n",
            "131 Loss:  0.3397324881516397\n",
            "132 Loss:  0.33400132111273706\n",
            "133 Loss:  0.3057635872391984\n",
            "134 Loss:  0.3176966863684356\n",
            "135 Loss:  0.31431155325844884\n",
            "136 Loss:  0.3292589776683599\n",
            "137 Loss:  0.3150164815597236\n",
            "138 Loss:  0.30796223576180637\n",
            "139 Loss:  0.3101304732263088\n",
            "140 Loss:  0.30461542401462793\n",
            "141 Loss:  0.3088147989474237\n",
            "142 Loss:  0.2975967265665531\n",
            "143 Loss:  0.3109622790943831\n",
            "144 Loss:  0.30167823005467653\n",
            "145 Loss:  0.29924023523926735\n",
            "146 Loss:  0.3075421415269375\n",
            "147 Loss:  0.29800068167969584\n",
            "148 Loss:  0.3020458850078285\n",
            "149 Loss:  0.29532204382121563\n",
            "150 Loss:  0.30827793618664145\n",
            "151 Loss:  0.2997538954950869\n",
            "152 Loss:  0.31267621647566557\n",
            "153 Loss:  0.29816747177392244\n",
            "154 Loss:  0.3021876681596041\n",
            "155 Loss:  0.3003655606880784\n",
            "156 Loss:  0.30368585186079144\n",
            "157 Loss:  0.28860062547028065\n",
            "158 Loss:  0.2924046867992729\n",
            "159 Loss:  0.2916884964797646\n",
            "160 Loss:  0.28968500229530036\n",
            "161 Loss:  0.2885897336527705\n",
            "162 Loss:  0.30469444626942277\n",
            "163 Loss:  0.2926784409210086\n",
            "164 Loss:  0.28369482536800206\n",
            "165 Loss:  0.2782517099985853\n",
            "166 Loss:  0.29232958564534783\n",
            "167 Loss:  0.2918898272328079\n",
            "168 Loss:  0.28823005547747016\n",
            "169 Loss:  0.28439639136195183\n",
            "170 Loss:  0.2858087015338242\n",
            "171 Loss:  0.2777198532130569\n",
            "172 Loss:  0.2793931021587923\n",
            "173 Loss:  0.2895175665616989\n",
            "174 Loss:  0.2785219415090978\n",
            "175 Loss:  0.2775777115020901\n",
            "176 Loss:  0.28532422659918666\n",
            "177 Loss:  0.27737723605241627\n",
            "178 Loss:  0.2819446267094463\n",
            "179 Loss:  0.28614423726685345\n",
            "180 Loss:  0.2886180568020791\n",
            "181 Loss:  0.28199042612686753\n",
            "182 Loss:  0.2791880869772285\n",
            "183 Loss:  0.2876743101514876\n",
            "184 Loss:  0.27657494880259037\n",
            "185 Loss:  0.2923147368710488\n",
            "186 Loss:  0.2726109374780208\n",
            "187 Loss:  0.3066005117725581\n",
            "188 Loss:  0.29669249802827835\n",
            "189 Loss:  0.2690639600623399\n",
            "190 Loss:  0.2785427304916084\n",
            "191 Loss:  0.2704850228037685\n",
            "192 Loss:  0.26729216054081917\n",
            "193 Loss:  0.2729271443095058\n",
            "194 Loss:  0.27782045491039753\n",
            "195 Loss:  0.26981292106211185\n",
            "196 Loss:  0.2644882935564965\n",
            "197 Loss:  0.26042067678645253\n",
            "198 Loss:  0.26981604751199484\n",
            "199 Loss:  0.2649771072319709\n"
          ],
          "name": "stdout"
        }
      ]
    },
    {
      "cell_type": "code",
      "metadata": {
        "colab": {
          "base_uri": "https://localhost:8080/",
          "height": 283
        },
        "id": "gbH5Vrl9ToSy",
        "outputId": "24ea5eec-aa58-4596-8e3b-b55884c188e3"
      },
      "source": [
        "plt.plot(losses)"
      ],
      "execution_count": null,
      "outputs": [
        {
          "output_type": "execute_result",
          "data": {
            "text/plain": [
              "[<matplotlib.lines.Line2D at 0x7fe3e7c0ae10>]"
            ]
          },
          "metadata": {
            "tags": []
          },
          "execution_count": 14
        },
        {
          "output_type": "display_data",
          "data": {
            "image/png": "[encoded data removed]",
            "text/plain": [
              "<Figure size 432x288 with 1 Axes>"
            ]
          },
          "metadata": {
            "tags": [],
            "needs_background": "light"
          }
        }
      ]
    },
    {
      "cell_type": "markdown",
      "metadata": {
        "id": "m3IsYdLGUeuY"
      },
      "source": [
        "### 테스트 시작\r\n"
      ]
    },
    {
      "cell_type": "code",
      "metadata": {
        "colab": {
          "base_uri": "https://localhost:8080/"
        },
        "id": "XAftfaZZUeNE",
        "outputId": "0887f285-9bb0-4795-f24a-54e6530ebb8e"
      },
      "source": [
        "net.eval()\r\n",
        "\r\n",
        "with torch.no_grad():\r\n",
        "  for x_test, y_test in test_dataloader:\r\n",
        "    test_result = net(x_test)\r\n",
        "    pred = torch.argmax(test_result, dim=1)\r\n",
        "\r\n",
        "    num_correct = (pred == y_test).sum().item()\r\n",
        "    print('Accuracy: ', num_correct*100.0/len(y_test), '%')"
      ],
      "execution_count": null,
      "outputs": [
        {
          "output_type": "stream",
          "text": [
            "Accuracy:  96.66666666666667 %\n"
          ],
          "name": "stdout"
        }
      ]
    }
  ]
}
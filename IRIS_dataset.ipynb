{
  "nbformat": 4,
  "nbformat_minor": 0,
  "metadata": {
    "colab": {
      "name": "IRIS dataset",
      "provenance": [],
      "collapsed_sections": [],
      "authorship_tag": "ABX9TyNYT08CxNfkm9OqcRfQ+zqr"
    },
    "kernelspec": {
      "name": "python3",
      "display_name": "Python 3"
    }
  },
  "cells": [
    {
      "cell_type": "markdown",
      "metadata": {
        "id": "XtpiIRuUPF8L"
      },
      "source": [
        "## 1988년 IRIS dataset\r\n",
        "- 통계학자 피셔(R.A Fisher)의 붓꽃 연구에 기반한 데이터\r\n",
        "- 3개의 종류 iris, 종류별 50갸\r\n",
        "- 데이터: 4개의 실수로 구성(sepal length, sepal width, petal length, petal width(cm))\r\n",
        "- 문제: 4개의 실수 값에 근거하여 꽃 종류를 맞추는 문제"
      ]
    },
    {
      "cell_type": "code",
      "metadata": {
        "id": "ouAlRuwAPUn-"
      },
      "source": [
        "import torch\r\n",
        "from torch import nn, optim # nn : netural network\r\n",
        "from sklearn.datasets import load_iris"
      ],
      "execution_count": null,
      "outputs": []
    },
    {
      "cell_type": "markdown",
      "metadata": {
        "id": "4uuRk1r6Pbrc"
      },
      "source": [
        "### IRIS 데이터를 로딩"
      ]
    },
    {
      "cell_type": "code",
      "metadata": {
        "colab": {
          "base_uri": "https://localhost:8080/"
        },
        "id": "-Wq4PsizPfcc",
        "outputId": "23357d81-d66d-482d-f124-97b93975ab6b"
      },
      "source": [
        "iris = load_iris()\r\n",
        "\r\n",
        "print('Flower names: ', iris.target_names)\r\n",
        "print('Feature names: ', iris.feature_names)"
      ],
      "execution_count": null,
      "outputs": [
        {
          "output_type": "stream",
          "text": [
            "Flower names:  ['setosa' 'versicolor' 'virginica']\n",
            "Feature names:  ['sepal length (cm)', 'sepal width (cm)', 'petal length (cm)', 'petal width (cm)']\n"
          ],
          "name": "stdout"
        }
      ]
    },
    {
      "cell_type": "markdown",
      "metadata": {
        "id": "Oau_yX93QmdZ"
      },
      "source": [
        "### 데이터 개수를 확인"
      ]
    },
    {
      "cell_type": "code",
      "metadata": {
        "colab": {
          "base_uri": "https://localhost:8080/"
        },
        "id": "gsxggiOJPoCa",
        "outputId": "2f816497-02e1-460d-ff05-785ff0177996"
      },
      "source": [
        "flower_features = iris.data # 150개의 꽃들의 4개의 특징(length, width)이 들어있음\r\n",
        "flower_classification = iris.target # 150개의 꽃들을 하나씩 분류해서 들어있음\r\n",
        "\r\n",
        "# print(flower_classification)\r\n",
        "\r\n",
        "print('flower features len: ', len(flower_features))\r\n",
        "print('flower classification len: ', len(flower_classification))"
      ],
      "execution_count": null,
      "outputs": [
        {
          "output_type": "stream",
          "text": [
            "flower features len:  150\n",
            "flower classification len:  150\n"
          ],
          "name": "stdout"
        }
      ]
    },
    {
      "cell_type": "markdown",
      "metadata": {
        "id": "nR_kuhNjQ4wK"
      },
      "source": [
        "### 데이터를 실제로 확인"
      ]
    },
    {
      "cell_type": "code",
      "metadata": {
        "colab": {
          "base_uri": "https://localhost:8080/"
        },
        "id": "APcgkVokQ1Sv",
        "outputId": "de6952d3-5175-4a58-9562-3590ccc9f90b"
      },
      "source": [
        "print(flower_features[0])\r\n",
        "print(flower_features[50])\r\n",
        "print(flower_features[100])"
      ],
      "execution_count": null,
      "outputs": [
        {
          "output_type": "stream",
          "text": [
            "[5.1 3.5 1.4 0.2]\n",
            "[7.  3.2 4.7 1.4]\n",
            "[6.3 3.3 6.  2.5]\n"
          ],
          "name": "stdout"
        }
      ]
    },
    {
      "cell_type": "markdown",
      "metadata": {
        "id": "vTLl_BJ8RCh2"
      },
      "source": [
        "### 분류데이터를 실제로 확인. 0,1,2로 꽃 종류를 구분"
      ]
    },
    {
      "cell_type": "code",
      "metadata": {
        "colab": {
          "base_uri": "https://localhost:8080/"
        },
        "id": "CwO-J9ycQ_ny",
        "outputId": "4acad4d9-22f6-4210-89d2-fe7e6e810bd6"
      },
      "source": [
        "print(flower_classification[0])\r\n",
        "print(flower_classification[50])\r\n",
        "print(flower_classification[100])"
      ],
      "execution_count": null,
      "outputs": [
        {
          "output_type": "stream",
          "text": [
            "0\n",
            "1\n",
            "2\n"
          ],
          "name": "stdout"
        }
      ]
    },
    {
      "cell_type": "markdown",
      "metadata": {
        "id": "Llf8jZo7U1wM"
      },
      "source": [
        "## Cross Entropy Loss by Pytorch\r\n",
        "- 3가지 종류의 꽃을 맞추기 위해 예측 값 3개 중 가장 높은 숫자 꽃의 종류가 정답일거라고 가정"
      ]
    },
    {
      "cell_type": "markdown",
      "metadata": {
        "id": "pQM3YczbVNqL"
      },
      "source": [
        "### prediction [6, 3, 0.1]에 대해서, ground truth와 비교하여 loss 계산"
      ]
    },
    {
      "cell_type": "code",
      "metadata": {
        "colab": {
          "base_uri": "https://localhost:8080/"
        },
        "id": "W3YOUahDRMTO",
        "outputId": "960d7f22-0f45-4557-df5f-5694c5ef049e"
      },
      "source": [
        "# 여기서는 첫번째 종류의 꽃의 숫자가 6으로 제일 크기 때문에 정답은 첫번째, 즉 0번째 꽃이다.\r\n",
        "import torch\r\n",
        "import torch.nn\r\n",
        "\r\n",
        "loss_fn = nn.CrossEntropyLoss()\r\n",
        "\r\n",
        "prediction = torch.tensor([[6.0, 3.0, 0.1]], dtype=torch.float) # 행렬에 무조건 소수점이 들어와야 함\r\n",
        "gt = torch.tensor([0])  # 정답은 0번째 꽃\r\n",
        "\r\n",
        "print('prediction size: ', prediction.size())\r\n",
        "print('ground truth size: ', gt.size())"
      ],
      "execution_count": null,
      "outputs": [
        {
          "output_type": "stream",
          "text": [
            "prediction size:  torch.Size([1, 3])\n",
            "ground truth size:  torch.Size([1])\n"
          ],
          "name": "stdout"
        }
      ]
    },
    {
      "cell_type": "markdown",
      "metadata": {
        "id": "rPB4ZdBhWICp"
      },
      "source": [
        "### 정답이 0일 때, Prediction이 이를 맞추었기 때문에 loss값이 작다"
      ]
    },
    {
      "cell_type": "code",
      "metadata": {
        "colab": {
          "base_uri": "https://localhost:8080/"
        },
        "id": "gNYLvbnVV4gn",
        "outputId": "bfb81ad6-b12f-4e56-b02e-391f00189570"
      },
      "source": [
        "loss_res = loss_fn(prediction, gt)\r\n",
        "print('loss for 0: ', loss_res)"
      ],
      "execution_count": null,
      "outputs": [
        {
          "output_type": "stream",
          "text": [
            "loss for 0:  tensor(0.0512)\n"
          ],
          "name": "stdout"
        }
      ]
    },
    {
      "cell_type": "markdown",
      "metadata": {
        "id": "nq1MFk8DWSdd"
      },
      "source": [
        "### 정답이 1이므로 loss값이 크다"
      ]
    },
    {
      "cell_type": "code",
      "metadata": {
        "colab": {
          "base_uri": "https://localhost:8080/"
        },
        "id": "ZbGezvH5WQ59",
        "outputId": "f97b3e17-7847-4dba-b2a4-6e95a8a8d460"
      },
      "source": [
        "gt = torch.tensor([1])\r\n",
        "loss_res = loss_fn(prediction, gt)\r\n",
        "print('loss for 1: ', loss_res)"
      ],
      "execution_count": null,
      "outputs": [
        {
          "output_type": "stream",
          "text": [
            "loss for 1:  tensor(3.0512)\n"
          ],
          "name": "stdout"
        }
      ]
    },
    {
      "cell_type": "markdown",
      "metadata": {
        "id": "fsx5LO4PWeDo"
      },
      "source": [
        "### 정답이 2인데, prediction에서는 이의 가능성을 가장 낮게 평가했으므로, loss가 가장 크다."
      ]
    },
    {
      "cell_type": "code",
      "metadata": {
        "colab": {
          "base_uri": "https://localhost:8080/"
        },
        "id": "iQO8QLQuWc-x",
        "outputId": "a47531c1-dba0-4c4e-cc47-e0b92b40871e"
      },
      "source": [
        "gt = torch.tensor([2])\r\n",
        "loss_res = loss_fn(prediction, gt)\r\n",
        "print('loss for 2: ', loss_res)"
      ],
      "execution_count": null,
      "outputs": [
        {
          "output_type": "stream",
          "text": [
            "loss for 2:  tensor(5.9512)\n"
          ],
          "name": "stdout"
        }
      ]
    },
    {
      "cell_type": "markdown",
      "metadata": {
        "id": "sAoUTg71XVq2"
      },
      "source": [
        "## IRIS Classification"
      ]
    },
    {
      "cell_type": "markdown",
      "metadata": {
        "id": "wzuaQYhkXayi"
      },
      "source": [
        "### 4개의 값을 이용하여 꽃 종류를 맞추는 모델"
      ]
    },
    {
      "cell_type": "code",
      "metadata": {
        "id": "A6qGkOPMWoW5"
      },
      "source": [
        "net = nn.Linear(4,3)  # 4개를 넣어서 3개로 나온다.\r\n",
        "loss_fn = nn.CrossEntropyLoss()\r\n",
        "optimizer = optim.SGD(net.parameters(), lr = 0.25)"
      ],
      "execution_count": null,
      "outputs": []
    },
    {
      "cell_type": "markdown",
      "metadata": {
        "id": "Qpb_BCeoXrpu"
      },
      "source": [
        "### Train과 Test 데이터로 분리"
      ]
    },
    {
      "cell_type": "code",
      "metadata": {
        "colab": {
          "base_uri": "https://localhost:8080/"
        },
        "id": "UlKA6A2IXi0H",
        "outputId": "83bf0c23-88cb-4ac6-b90d-3d2244c41f63"
      },
      "source": [
        "from sklearn.model_selection import train_test_split\r\n",
        "x_train, x_test, y_train, y_test = train_test_split(flower_features, flower_classification, test_size=0.1)  # test_size=0.1 -> train 90%, test 10%\r\n",
        "print(type(x_train), x_train.dtype)"
      ],
      "execution_count": null,
      "outputs": [
        {
          "output_type": "stream",
          "text": [
            "<class 'numpy.ndarray'> float64\n"
          ],
          "name": "stdout"
        }
      ]
    },
    {
      "cell_type": "markdown",
      "metadata": {
        "id": "VqXZfQOxVZQi"
      },
      "source": [
        "### Tensor로 변환"
      ]
    },
    {
      "cell_type": "code",
      "metadata": {
        "id": "Eg2wXOsPVazC"
      },
      "source": [
        "x_train = torch.tensor(x_train, dtype=torch.float32)\r\n",
        "y_train = torch.tensor(y_train, dtype=torch.int64)\r\n",
        "x_test = torch.tensor(x_test, dtype=torch.float32)\r\n",
        "y_test = torch.tensor(y_test, dtype=torch.int64) "
      ],
      "execution_count": null,
      "outputs": []
    },
    {
      "cell_type": "code",
      "metadata": {
        "colab": {
          "base_uri": "https://localhost:8080/"
        },
        "id": "NOI-RKoaX792",
        "outputId": "cce7364f-59b0-49e5-b837-7e91cf299afd"
      },
      "source": [
        "print('x_train: ', x_train.size(), x_train.dtype)\r\n",
        "print('y_train: ', y_train.size(), y_train.dtype)\r\n",
        "\r\n",
        "net = net.train()\r\n",
        "for i in range(1000):\r\n",
        "  optimizer.zero_grad()\r\n",
        "  X = net(x_train)\r\n",
        "  loss = loss_fn(X, y_train)\r\n",
        "  loss.backward()\r\n",
        "  optimizer.step()"
      ],
      "execution_count": null,
      "outputs": [
        {
          "output_type": "stream",
          "text": [
            "x_train:  torch.Size([135, 4]) torch.float32\n",
            "y_train:  torch.Size([135]) torch.int64\n"
          ],
          "name": "stdout"
        }
      ]
    },
    {
      "cell_type": "markdown",
      "metadata": {
        "id": "jP8Gr3KICZaw"
      },
      "source": [
        "### 테스트 과정"
      ]
    },
    {
      "cell_type": "code",
      "metadata": {
        "colab": {
          "base_uri": "https://localhost:8080/"
        },
        "id": "Ns7StNk1_g8P",
        "outputId": "6d8cea50-131f-4cfe-8fb5-79fe17e1c926"
      },
      "source": [
        "net.eval()  #eval 모델로 시험 -> 시험을 보러 가야한다\r\n",
        "\r\n",
        "with torch.no_grad(): # 시험보는 데이터로 학습을 하면 안되니까 써주는 것?\r\n",
        "  prediction_res = net(x_test)\r\n",
        "  print('Prediction size: ', prediction_res.size())\r\n",
        "\r\n",
        "  print('Prediction: ', prediction_res)\r\n",
        "  print('Ground truth: ', y_test)"
      ],
      "execution_count": null,
      "outputs": [
        {
          "output_type": "stream",
          "text": [
            "Prediction size:  torch.Size([15, 3])\n",
            "Prediction:  tensor([[ 13.2441,   7.0642, -15.5936],\n",
            "        [ -7.8542,   3.1702,   9.3028],\n",
            "        [ -0.9361,   4.2810,   1.2966],\n",
            "        [ -5.7084,   2.9723,   7.0783],\n",
            "        [ -1.2820,   4.7156,   0.6961],\n",
            "        [ -5.3949,   3.4133,   6.5373],\n",
            "        [  0.2407,   5.7073,  -0.5431],\n",
            "        [ 11.2859,   6.6912, -13.5635],\n",
            "        [ -2.4567,   4.5888,   2.5322],\n",
            "        [ -0.2178,   5.5798,  -0.0509],\n",
            "        [ 11.0913,   6.6128, -13.3181],\n",
            "        [ -4.3076,   4.7294,   4.6465],\n",
            "        [ -1.6413,   5.5774,   1.6267],\n",
            "        [ 13.4716,   6.9656, -15.8269],\n",
            "        [ 11.8376,   6.4108, -14.0616]])\n",
            "Ground truth:  tensor([0, 2, 1, 2, 1, 2, 1, 0, 1, 1, 0, 2, 1, 0, 0])\n"
          ],
          "name": "stdout"
        }
      ]
    },
    {
      "cell_type": "markdown",
      "metadata": {
        "id": "9jKawO3YDMGu"
      },
      "source": [
        "### 테스트 데이터에 대해서 정답율 체크"
      ]
    },
    {
      "cell_type": "code",
      "metadata": {
        "colab": {
          "base_uri": "https://localhost:8080/"
        },
        "id": "nLot6WG_DC2Z",
        "outputId": "b25a3c7d-4b00-44bc-f2e7-7a6380ee7210"
      },
      "source": [
        "pred = torch.argmax(prediction_res, dim=1)    # 가장 큰 값의 위치를 반환\r\n",
        "print(pred)"
      ],
      "execution_count": null,
      "outputs": [
        {
          "output_type": "stream",
          "text": [
            "tensor([0, 2, 1, 2, 1, 2, 1, 0, 1, 1, 0, 1, 1, 0, 0])\n"
          ],
          "name": "stdout"
        }
      ]
    },
    {
      "cell_type": "code",
      "metadata": {
        "colab": {
          "base_uri": "https://localhost:8080/"
        },
        "id": "oOheCJ3RDST5",
        "outputId": "50675c20-569d-42f2-8c9b-4a43ff12b55a"
      },
      "source": [
        "num_correct = (pred == y_test).sum().item()\r\n",
        "print('Accuracy: ', num_correct*100 / len(y_test), '%')"
      ],
      "execution_count": null,
      "outputs": [
        {
          "output_type": "stream",
          "text": [
            "Accuracy:  93.33333333333333 %\n"
          ],
          "name": "stdout"
        }
      ]
    }
  ]
}
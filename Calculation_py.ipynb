{
  "nbformat": 4,
  "nbformat_minor": 0,
  "metadata": {
    "colab": {
      "name": "Calculation.py",
      "provenance": [],
      "collapsed_sections": [],
      "authorship_tag": "ABX9TyMYkkcN5lVNJBjW60ZdliRx"
    },
    "kernelspec": {
      "name": "python3",
      "display_name": "Python 3"
    }
  },
  "cells": [
    {
      "cell_type": "code",
      "metadata": {
        "id": "6s4z4Q4sHPTT"
      },
      "source": [
        "import cv2\r\n",
        "import numpy as np"
      ],
      "execution_count": null,
      "outputs": []
    },
    {
      "cell_type": "markdown",
      "metadata": {
        "id": "97I6Y7akHT2i"
      },
      "source": [
        "- line 1: a는 1행 2열 배열이고, unsigned integer 타입이다.\r\n",
        "- line 2: b는 a와 동일한 구조와 타입을 갖는 배열이다."
      ]
    },
    {
      "cell_type": "code",
      "metadata": {
        "id": "nPhOGzmiHSoB"
      },
      "source": [
        "a = np.array([[200,50]], dtype=np.uint8)\r\n",
        "b = np.array([[100,100]], dtype=np.uint8)"
      ],
      "execution_count": null,
      "outputs": []
    },
    {
      "cell_type": "code",
      "metadata": {
        "colab": {
          "base_uri": "https://localhost:8080/"
        },
        "id": "mpfRXjA8HlFF",
        "outputId": "1892b874-68d0-4f26-a28d-6107485ccd98"
      },
      "source": [
        "print(a.shape)\r\n",
        "print(b.shape)"
      ],
      "execution_count": null,
      "outputs": [
        {
          "output_type": "stream",
          "text": [
            "(1, 2)\n",
            "(1, 2)\n"
          ],
          "name": "stdout"
        }
      ]
    },
    {
      "cell_type": "markdown",
      "metadata": {
        "id": "wPF9r10mHoe7"
      },
      "source": [
        "- line 2: cv2.add를 사용하면 첫 번째 요소의 값이 200 + 100 = 300이지만 255로 설정"
      ]
    },
    {
      "cell_type": "code",
      "metadata": {
        "colab": {
          "base_uri": "https://localhost:8080/"
        },
        "id": "LGl4wlFSHnK3",
        "outputId": "a8abd387-26d8-4c90-b748-7e426829a7a9"
      },
      "source": [
        "add_result = cv2.add(a,b)\r\n",
        "print(add_result)\r\n",
        "print(add_result.shape)"
      ],
      "execution_count": null,
      "outputs": [
        {
          "output_type": "stream",
          "text": [
            "[[255 150]]\n",
            "(1, 2)\n"
          ],
          "name": "stdout"
        }
      ]
    },
    {
      "cell_type": "markdown",
      "metadata": {
        "id": "i6K4_34IINbT"
      },
      "source": [
        "- Subtract 연산결과. 연산결과 음수가 발생하면 0으로 설정"
      ]
    },
    {
      "cell_type": "code",
      "metadata": {
        "colab": {
          "base_uri": "https://localhost:8080/"
        },
        "id": "lVSpkdrrH-9T",
        "outputId": "275c4472-5789-44a0-bcdf-1de2f685fa59"
      },
      "source": [
        "sub_result = cv2.subtract(b,a)\r\n",
        "print(sub_result)"
      ],
      "execution_count": null,
      "outputs": [
        {
          "output_type": "stream",
          "text": [
            "[[ 0 50]]\n"
          ],
          "name": "stdout"
        }
      ]
    },
    {
      "cell_type": "markdown",
      "metadata": {
        "id": "00dLN-2mIhw5"
      },
      "source": [
        "- Multiply 연산결과. 255를 넘어가는 결과는 255로 설정"
      ]
    },
    {
      "cell_type": "code",
      "metadata": {
        "colab": {
          "base_uri": "https://localhost:8080/"
        },
        "id": "Q43mTkiJIfE6",
        "outputId": "fac492c4-5528-4c32-cf0f-e99a846a16eb"
      },
      "source": [
        "mul_result = cv2.multiply(a,b)\r\n",
        "print(mul_result)"
      ],
      "execution_count": null,
      "outputs": [
        {
          "output_type": "stream",
          "text": [
            "[[255 255]]\n"
          ],
          "name": "stdout"
        }
      ]
    },
    {
      "cell_type": "markdown",
      "metadata": {
        "id": "xYGdVbIwIr4i"
      },
      "source": [
        "-  Divide 연산결과."
      ]
    },
    {
      "cell_type": "code",
      "metadata": {
        "colab": {
          "base_uri": "https://localhost:8080/"
        },
        "id": "o3F8JNykIoNl",
        "outputId": "1986341c-26e4-4bdd-b9e4-c3a4fa5c018c"
      },
      "source": [
        "div_result = cv2.divide(a,b)\r\n",
        "print(div_result)"
      ],
      "execution_count": null,
      "outputs": [
        {
          "output_type": "stream",
          "text": [
            "[[2 0]]\n"
          ],
          "name": "stdout"
        }
      ]
    }
  ]
}
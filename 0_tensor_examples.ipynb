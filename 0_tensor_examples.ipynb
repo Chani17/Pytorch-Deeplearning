{
  "nbformat": 4,
  "nbformat_minor": 0,
  "metadata": {
    "colab": {
      "name": "0_tensor_examples",
      "provenance": [],
      "collapsed_sections": [],
      "authorship_tag": "ABX9TyPRHfgMZyLnbXLwAI7eCyxP"
    },
    "kernelspec": {
      "name": "python3",
      "display_name": "Python 3"
    },
    "accelerator": "GPU"
  },
  "cells": [
    {
      "cell_type": "code",
      "metadata": {
        "id": "78CXGOyF-oxT"
      },
      "source": [
        "import torch"
      ],
      "execution_count": null,
      "outputs": []
    },
    {
      "cell_type": "code",
      "metadata": {
        "colab": {
          "base_uri": "https://localhost:8080/"
        },
        "id": "7pjZljCO_OWp",
        "outputId": "63f7eb56-092f-42de-e8af-33bf522f05b2"
      },
      "source": [
        "print('torch version: ', torch.__version__)"
      ],
      "execution_count": null,
      "outputs": [
        {
          "output_type": "stream",
          "text": [
            "torch version:  1.7.0+cu101\n"
          ],
          "name": "stdout"
        }
      ]
    },
    {
      "cell_type": "code",
      "metadata": {
        "colab": {
          "base_uri": "https://localhost:8080/"
        },
        "id": "QrcXJmTS_gGh",
        "outputId": "b7bf8391-fef5-4c4e-f3f7-728059f8ae7a"
      },
      "source": [
        "# tensor는 행렬이라고 생각!\r\n",
        "\r\n",
        "t = torch.tensor([[1,2], [3,4]])\r\n",
        "print(t)"
      ],
      "execution_count": null,
      "outputs": [
        {
          "output_type": "stream",
          "text": [
            "tensor([[1, 2],\n",
            "        [3, 4]])\n"
          ],
          "name": "stdout"
        }
      ]
    },
    {
      "cell_type": "code",
      "metadata": {
        "colab": {
          "base_uri": "https://localhost:8080/"
        },
        "id": "LtJ4ygyF_ouB",
        "outputId": "782b0d54-ada6-44fc-e96e-2ccdfec89f0e"
      },
      "source": [
        "print(t.size())"
      ],
      "execution_count": null,
      "outputs": [
        {
          "output_type": "stream",
          "text": [
            "torch.Size([2, 2])\n"
          ],
          "name": "stdout"
        }
      ]
    },
    {
      "cell_type": "code",
      "metadata": {
        "colab": {
          "base_uri": "https://localhost:8080/"
        },
        "id": "94i83-P7_vZl",
        "outputId": "24d9a58c-4561-4092-eb80-2c2591364655"
      },
      "source": [
        "t2 = torch.tensor([[1,2], [3,4]], device='cuda')\r\n",
        "print(t2)"
      ],
      "execution_count": null,
      "outputs": [
        {
          "output_type": "stream",
          "text": [
            "tensor([[1, 2],\n",
            "        [3, 4]], device='cuda:0')\n"
          ],
          "name": "stdout"
        }
      ]
    },
    {
      "cell_type": "code",
      "metadata": {
        "colab": {
          "base_uri": "https://localhost:8080/"
        },
        "id": "fo8-ekIyAVTs",
        "outputId": "bbb0984f-2b00-4d16-e9dc-5dd762e329ab"
      },
      "source": [
        "print(t2.dtype)"
      ],
      "execution_count": null,
      "outputs": [
        {
          "output_type": "stream",
          "text": [
            "torch.int64\n"
          ],
          "name": "stdout"
        }
      ]
    },
    {
      "cell_type": "code",
      "metadata": {
        "colab": {
          "base_uri": "https://localhost:8080/"
        },
        "id": "A1ZCqe4fAxLV",
        "outputId": "f463926a-9d5a-4bec-9562-44ecd40a7607"
      },
      "source": [
        "t3 = torch.arange(0,10)\r\n",
        "print(t3)"
      ],
      "execution_count": null,
      "outputs": [
        {
          "output_type": "stream",
          "text": [
            "tensor([0, 1, 2, 3, 4, 5, 6, 7, 8, 9])\n"
          ],
          "name": "stdout"
        }
      ]
    },
    {
      "cell_type": "code",
      "metadata": {
        "colab": {
          "base_uri": "https://localhost:8080/"
        },
        "id": "HYuU_ytXBN70",
        "outputId": "8d52b930-1cb2-4efd-e956-208897f5ce84"
      },
      "source": [
        "print(t3.size())"
      ],
      "execution_count": null,
      "outputs": [
        {
          "output_type": "stream",
          "text": [
            "torch.Size([10])\n"
          ],
          "name": "stdout"
        }
      ]
    },
    {
      "cell_type": "code",
      "metadata": {
        "colab": {
          "base_uri": "https://localhost:8080/"
        },
        "id": "s-rBO0F2BPV3",
        "outputId": "774b5e05-ae9e-4e21-f642-b78b499334d7"
      },
      "source": [
        "print(t3.dtype)"
      ],
      "execution_count": null,
      "outputs": [
        {
          "output_type": "stream",
          "text": [
            "torch.int64\n"
          ],
          "name": "stdout"
        }
      ]
    },
    {
      "cell_type": "markdown",
      "metadata": {
        "id": "RRGTt3B6BeA3"
      },
      "source": [
        "## Tensor를 자동으로 만드는 방법"
      ]
    },
    {
      "cell_type": "markdown",
      "metadata": {
        "id": "SRquN1vFBhk8"
      },
      "source": [
        "### 0으로만 구성된 tensor를 만드는 방법"
      ]
    },
    {
      "cell_type": "code",
      "metadata": {
        "colab": {
          "base_uri": "https://localhost:8080/"
        },
        "id": "HRxJAdBdBRMK",
        "outputId": "8744d9cd-0b29-4d78-90c1-f89a92e42025"
      },
      "source": [
        "z1 = torch.zeros(2,3)\r\n",
        "print(z1)"
      ],
      "execution_count": null,
      "outputs": [
        {
          "output_type": "stream",
          "text": [
            "tensor([[0., 0., 0.],\n",
            "        [0., 0., 0.]])\n"
          ],
          "name": "stdout"
        }
      ]
    },
    {
      "cell_type": "code",
      "metadata": {
        "colab": {
          "base_uri": "https://localhost:8080/"
        },
        "id": "VnggAVvSBorh",
        "outputId": "c348caed-6b08-4f67-ebeb-86d63dabb91c"
      },
      "source": [
        "print(z1.size(), z1.dtype)"
      ],
      "execution_count": null,
      "outputs": [
        {
          "output_type": "stream",
          "text": [
            "torch.Size([2, 3]) torch.float32\n"
          ],
          "name": "stdout"
        }
      ]
    },
    {
      "cell_type": "markdown",
      "metadata": {
        "id": "cN2-4szuCPWg"
      },
      "source": [
        "### 정규분포 (평균 0, 분산 1)를 따르는 임의의 숫자들로 구성된 tensor를 생성"
      ]
    },
    {
      "cell_type": "code",
      "metadata": {
        "colab": {
          "base_uri": "https://localhost:8080/"
        },
        "id": "_frf9WSCBsdb",
        "outputId": "38a9131a-216a-456a-dfa3-e7a62aefc122"
      },
      "source": [
        "z2 = torch.rand(2,3)\r\n",
        "print(z2)"
      ],
      "execution_count": null,
      "outputs": [
        {
          "output_type": "stream",
          "text": [
            "tensor([[0.9378, 0.8011, 0.3036],\n",
            "        [0.1430, 0.9072, 0.9440]])\n"
          ],
          "name": "stdout"
        }
      ]
    },
    {
      "cell_type": "code",
      "metadata": {
        "colab": {
          "base_uri": "https://localhost:8080/"
        },
        "id": "tahe3-ZjCZ4F",
        "outputId": "81c02130-7bff-4724-e39d-9277a6429dd9"
      },
      "source": [
        "print(z2.size(), z2.dtype)"
      ],
      "execution_count": null,
      "outputs": [
        {
          "output_type": "stream",
          "text": [
            "torch.Size([2, 3]) torch.float32\n"
          ],
          "name": "stdout"
        }
      ]
    },
    {
      "cell_type": "markdown",
      "metadata": {
        "id": "IkGEDdpsCfBN"
      },
      "source": [
        "### 1로만 구성된 tensor를 만든다."
      ]
    },
    {
      "cell_type": "code",
      "metadata": {
        "colab": {
          "base_uri": "https://localhost:8080/"
        },
        "id": "Lzpl_0WnCdr0",
        "outputId": "6cfc0954-4d98-4174-e087-003d3726dbfb"
      },
      "source": [
        "z3 = torch.ones(2,3)\r\n",
        "print(z3)"
      ],
      "execution_count": null,
      "outputs": [
        {
          "output_type": "stream",
          "text": [
            "tensor([[1., 1., 1.],\n",
            "        [1., 1., 1.]])\n"
          ],
          "name": "stdout"
        }
      ]
    },
    {
      "cell_type": "markdown",
      "metadata": {
        "id": "N86iO2SuC0_F"
      },
      "source": [
        "### Tensor에서 일부분만 읽거나, 쓰는 방법"
      ]
    },
    {
      "cell_type": "code",
      "metadata": {
        "colab": {
          "base_uri": "https://localhost:8080/"
        },
        "id": "LxVcyUOUCzy1",
        "outputId": "1188b66f-a9be-459b-b256-6d997e061a83"
      },
      "source": [
        "t1 = torch.tensor([[1,2,3], [4,5,6]])\r\n",
        "print(t1.size())  # 2행 3열"
      ],
      "execution_count": null,
      "outputs": [
        {
          "output_type": "stream",
          "text": [
            "torch.Size([2, 3])\n"
          ],
          "name": "stdout"
        }
      ]
    },
    {
      "cell_type": "code",
      "metadata": {
        "colab": {
          "base_uri": "https://localhost:8080/"
        },
        "id": "jWshSR9zDAJn",
        "outputId": "4ebffb57-7c04-4b52-9ee0-95c42e5a8e80"
      },
      "source": [
        "# t1에서 3 추출\r\n",
        "k = t1[0,2]\r\n",
        "print(type(k), k.size(), k.dtype)\r\n",
        "print(k)"
      ],
      "execution_count": null,
      "outputs": [
        {
          "output_type": "stream",
          "text": [
            "<class 'torch.Tensor'> torch.Size([]) torch.int64\n",
            "tensor(3)\n"
          ],
          "name": "stdout"
        }
      ]
    },
    {
      "cell_type": "code",
      "metadata": {
        "colab": {
          "base_uri": "https://localhost:8080/"
        },
        "id": "V7ZprvaQDxrO",
        "outputId": "7d0e6d20-b542-4460-b182-47924465d195"
      },
      "source": [
        "print(k.data.item())"
      ],
      "execution_count": null,
      "outputs": [
        {
          "output_type": "stream",
          "text": [
            "3\n"
          ],
          "name": "stdout"
        }
      ]
    },
    {
      "cell_type": "markdown",
      "metadata": {
        "id": "SRwooAJDD9Bi"
      },
      "source": [
        "### 2행 2열만 추출,,,"
      ]
    },
    {
      "cell_type": "code",
      "metadata": {
        "colab": {
          "base_uri": "https://localhost:8080/"
        },
        "id": "5FuCyCo0D7bQ",
        "outputId": "28eee43c-b16d-4c81-c472-bc9776a2e79f"
      },
      "source": [
        "t2 = t1[:, :2]\r\n",
        "print(t2)"
      ],
      "execution_count": null,
      "outputs": [
        {
          "output_type": "stream",
          "text": [
            "tensor([[1, 2],\n",
            "        [4, 5]])\n"
          ],
          "name": "stdout"
        }
      ]
    },
    {
      "cell_type": "code",
      "metadata": {
        "colab": {
          "base_uri": "https://localhost:8080/"
        },
        "id": "Z_xkIjhnEB-j",
        "outputId": "9604b70c-6330-4b12-9479-7d958149a41e"
      },
      "source": [
        "t3 = t1[0, 1:]\r\n",
        "print(t3)"
      ],
      "execution_count": null,
      "outputs": [
        {
          "output_type": "stream",
          "text": [
            "tensor([2, 3])\n"
          ],
          "name": "stdout"
        }
      ]
    },
    {
      "cell_type": "code",
      "metadata": {
        "colab": {
          "base_uri": "https://localhost:8080/"
        },
        "id": "UkzVfGrlEiHQ",
        "outputId": "107d3abf-faf4-4b95-9f8e-5374045eaff0"
      },
      "source": [
        "t4 = t1[1:, 1:]\r\n",
        "print(t4, t4.size())"
      ],
      "execution_count": null,
      "outputs": [
        {
          "output_type": "stream",
          "text": [
            "tensor([[5, 6]]) torch.Size([1, 2])\n"
          ],
          "name": "stdout"
        }
      ]
    },
    {
      "cell_type": "code",
      "metadata": {
        "colab": {
          "base_uri": "https://localhost:8080/"
        },
        "id": "9J-fHaL2EnUc",
        "outputId": "4054cf64-149d-473d-841a-8098758ab23a"
      },
      "source": [
        "t5 = t1[:, [0,2]]\r\n",
        "print(t5)"
      ],
      "execution_count": null,
      "outputs": [
        {
          "output_type": "stream",
          "text": [
            "tensor([[1, 3],\n",
            "        [4, 6]])\n"
          ],
          "name": "stdout"
        }
      ]
    },
    {
      "cell_type": "code",
      "metadata": {
        "colab": {
          "base_uri": "https://localhost:8080/"
        },
        "id": "8SH9Tus8EzGD",
        "outputId": "6915f45a-41a1-4435-f7e2-6f2b174e7f36"
      },
      "source": [
        "t6 = t1[t1 > 3]\r\n",
        "print(t6)"
      ],
      "execution_count": null,
      "outputs": [
        {
          "output_type": "stream",
          "text": [
            "tensor([4, 5, 6])\n"
          ],
          "name": "stdout"
        }
      ]
    },
    {
      "cell_type": "code",
      "metadata": {
        "colab": {
          "base_uri": "https://localhost:8080/"
        },
        "id": "Y7CgFt45FNVO",
        "outputId": "68e34ab8-7ecf-4453-e1f8-e0e33b0500ba"
      },
      "source": [
        "t7 = t1[t1 > 2]\r\n",
        "print(t7)"
      ],
      "execution_count": null,
      "outputs": [
        {
          "output_type": "stream",
          "text": [
            "tensor([3, 4, 5, 6])\n"
          ],
          "name": "stdout"
        }
      ]
    },
    {
      "cell_type": "code",
      "metadata": {
        "colab": {
          "base_uri": "https://localhost:8080/"
        },
        "id": "ZALOpNZBFPn5",
        "outputId": "b423da71-deb3-4349-d730-36aa694d3e91"
      },
      "source": [
        "t8 = torch.tensor([[1,2,3], [4,5,6]])\r\n",
        "print(t8)"
      ],
      "execution_count": null,
      "outputs": [
        {
          "output_type": "stream",
          "text": [
            "tensor([[1, 2, 3],\n",
            "        [4, 5, 6]])\n"
          ],
          "name": "stdout"
        }
      ]
    },
    {
      "cell_type": "code",
      "metadata": {
        "colab": {
          "base_uri": "https://localhost:8080/"
        },
        "id": "jfVz90gdFQhr",
        "outputId": "506f4abf-5082-48ab-802b-5a6e6be9982c"
      },
      "source": [
        "t8[0,1] = 100\r\n",
        "print(t8)"
      ],
      "execution_count": null,
      "outputs": [
        {
          "output_type": "stream",
          "text": [
            "tensor([[  1, 100,   3],\n",
            "        [  4,   5,   6]])\n"
          ],
          "name": "stdout"
        }
      ]
    },
    {
      "cell_type": "code",
      "metadata": {
        "colab": {
          "base_uri": "https://localhost:8080/"
        },
        "id": "C67XbUXJFrfc",
        "outputId": "1cf231c5-a8c4-4834-b9de-f8b34583286c"
      },
      "source": [
        "t8[:,1] = 200\r\n",
        "print(t8)"
      ],
      "execution_count": null,
      "outputs": [
        {
          "output_type": "stream",
          "text": [
            "tensor([[  1, 200,   3],\n",
            "        [  4, 200,   6]])\n"
          ],
          "name": "stdout"
        }
      ]
    },
    {
      "cell_type": "code",
      "metadata": {
        "colab": {
          "base_uri": "https://localhost:8080/"
        },
        "id": "-JgPLzcaFupR",
        "outputId": "439d958f-ff4e-4438-97f9-f236a3a9c950"
      },
      "source": [
        "t8[t8 > 100] = -1\r\n",
        "print(t8)"
      ],
      "execution_count": null,
      "outputs": [
        {
          "output_type": "stream",
          "text": [
            "tensor([[ 1, -1,  3],\n",
            "        [ 4, -1,  6]])\n"
          ],
          "name": "stdout"
        }
      ]
    },
    {
      "cell_type": "markdown",
      "metadata": {
        "id": "-SKy1VC75jgw"
      },
      "source": [
        "### Tensor 연산"
      ]
    },
    {
      "cell_type": "code",
      "metadata": {
        "id": "2uRGtFGp5oSG"
      },
      "source": [
        "v = torch.tensor([1,2,3.])\r\n",
        "w = torch.tensor([0, 10, 20.])\r\n",
        "m = torch.tensor([[0, 1, 2], [100, 200, 300.]])"
      ],
      "execution_count": null,
      "outputs": []
    },
    {
      "cell_type": "code",
      "metadata": {
        "colab": {
          "base_uri": "https://localhost:8080/"
        },
        "id": "QKEIwU8b512E",
        "outputId": "f77ae6cc-1ee7-4f2f-d90a-1f2d6f995131"
      },
      "source": [
        "# 행렬과 스칼라의 곱\r\n",
        "m2 = m + 2.0\r\n",
        "print(m2)"
      ],
      "execution_count": null,
      "outputs": [
        {
          "output_type": "stream",
          "text": [
            "tensor([[  2.,   3.,   4.],\n",
            "        [102., 202., 302.]])\n"
          ],
          "name": "stdout"
        }
      ]
    },
    {
      "cell_type": "code",
      "metadata": {
        "colab": {
          "base_uri": "https://localhost:8080/"
        },
        "id": "U27vzP7Z6Ykg",
        "outputId": "c90a222a-c1de-45b4-f4d4-e40c6243d13b"
      },
      "source": [
        "# (2,3)인 행렬과 (3,)인 벡터의 덧셈이므로 각 행에 적용된다.\r\n",
        "m3 = m + v\r\n",
        "print(m3)"
      ],
      "execution_count": null,
      "outputs": [
        {
          "output_type": "stream",
          "text": [
            "tensor([[  1.,   3.,   5.],\n",
            "        [101., 202., 303.]])\n"
          ],
          "name": "stdout"
        }
      ]
    },
    {
      "cell_type": "code",
      "metadata": {
        "colab": {
          "base_uri": "https://localhost:8080/"
        },
        "id": "KQMhOc-m7gX4",
        "outputId": "c2d207fa-ff31-429c-ed5d-875f13c06789"
      },
      "source": [
        "# 행렬간의 덧셈\r\n",
        "m4 = m + m\r\n",
        "print(m4)"
      ],
      "execution_count": null,
      "outputs": [
        {
          "output_type": "stream",
          "text": [
            "tensor([[  0.,   2.,   4.],\n",
            "        [200., 400., 600.]])\n"
          ],
          "name": "stdout"
        }
      ]
    },
    {
      "cell_type": "markdown",
      "metadata": {
        "id": "4GJZIGNL8GQ1"
      },
      "source": [
        "### randn, torch.abs"
      ]
    },
    {
      "cell_type": "code",
      "metadata": {
        "colab": {
          "base_uri": "https://localhost:8080/"
        },
        "id": "7UmAyyyL7o82",
        "outputId": "fef85b47-c10a-4618-c453-b388fc0ea95f"
      },
      "source": [
        "X = torch.randn(5, 10)  # 5행 10열\r\n",
        "y = X * 2 + torch.abs(X)\r\n",
        "print(y)"
      ],
      "execution_count": null,
      "outputs": [
        {
          "output_type": "stream",
          "text": [
            "tensor([[-7.2639e-01, -8.2851e-01,  9.8163e-01,  7.1511e+00,  1.6373e+00,\n",
            "          1.4882e+00, -1.5379e+00, -1.8484e+00,  1.9991e-03, -6.5756e-01],\n",
            "        [ 1.5076e+00, -8.7449e-01, -3.2859e-01,  5.0625e+00, -2.9687e+00,\n",
            "         -7.5577e-01, -1.0595e+00, -7.4228e-01,  7.3657e-01, -1.7986e+00],\n",
            "        [-7.8519e-02, -7.0970e-01,  3.8332e+00, -7.1689e-01,  3.4674e+00,\n",
            "         -1.0747e+00, -2.0328e+00, -9.9852e-01, -2.1485e+00,  2.2049e+00],\n",
            "        [-8.3291e-01,  3.1210e-01, -6.1080e-02, -3.3475e-01, -4.9762e-01,\n",
            "          1.0910e+00,  2.2067e+00, -1.5369e-01, -1.0568e+00, -5.8618e-01],\n",
            "        [-2.5748e-01,  4.5865e+00, -1.5993e+00, -6.7962e-01, -4.1302e-01,\n",
            "         -2.0390e+00, -2.1650e-01,  4.3847e+00,  3.5724e+00, -2.5103e-01]])\n"
          ],
          "name": "stdout"
        }
      ]
    },
    {
      "cell_type": "markdown",
      "metadata": {
        "id": "fsG8G_J08pBu"
      },
      "source": [
        "### torch.mean"
      ]
    },
    {
      "cell_type": "code",
      "metadata": {
        "colab": {
          "base_uri": "https://localhost:8080/"
        },
        "id": "nukZ-WwT8SqK",
        "outputId": "b6c8c6a8-72a0-4b61-9f46-2c9173d77e82"
      },
      "source": [
        "# 평균 구하기\r\n",
        "X = torch.tensor([[1,1,1], [2,2,2]], dtype=torch.float)\r\n",
        "print(X.dtype)\r\n",
        "\r\n",
        "m = torch.mean(X)\r\n",
        "print(m)\r\n",
        "\r\n",
        "m = X.mean()\r\n",
        "print(m)"
      ],
      "execution_count": null,
      "outputs": [
        {
          "output_type": "stream",
          "text": [
            "torch.float32\n",
            "tensor(1.5000)\n",
            "tensor(1.5000)\n"
          ],
          "name": "stdout"
        }
      ]
    },
    {
      "cell_type": "code",
      "metadata": {
        "colab": {
          "base_uri": "https://localhost:8080/"
        },
        "id": "1qK3BgPL809i",
        "outputId": "3bb9df4f-8a63-4da5-e3c3-1efa57c9c8de"
      },
      "source": [
        "# 0차원인 Tensor는 item 메소드로 값을 추출할 수 있다.\r\n",
        "k = m.item()\r\n",
        "print(k)"
      ],
      "execution_count": null,
      "outputs": [
        {
          "output_type": "stream",
          "text": [
            "1.5\n"
          ],
          "name": "stdout"
        }
      ]
    },
    {
      "cell_type": "markdown",
      "metadata": {
        "id": "0F4tTq8L9qdC"
      },
      "source": [
        "### torch.mean 행과 열을 지정"
      ]
    },
    {
      "cell_type": "code",
      "metadata": {
        "colab": {
          "base_uri": "https://localhost:8080/"
        },
        "id": "EAjZvhCy9TnQ",
        "outputId": "96cb3a09-f9a8-480e-a27f-ff4ab97f5789"
      },
      "source": [
        "x = torch.tensor([[1,1,1], [2,2,2]], dtype=torch.float)\r\n",
        "\r\n",
        "print(torch.mean(x,0))  # 0은 행, 1은 열 -> 즉 , x의 행끼리 계산해서 평균 값을 계산해라."
      ],
      "execution_count": null,
      "outputs": [
        {
          "output_type": "stream",
          "text": [
            "tensor([1.5000, 1.5000, 1.5000])\n"
          ],
          "name": "stdout"
        }
      ]
    },
    {
      "cell_type": "code",
      "metadata": {
        "colab": {
          "base_uri": "https://localhost:8080/"
        },
        "id": "6z4ib0FW-X5M",
        "outputId": "3b9bc8db-73b7-4f73-b5b2-bed990d25a20"
      },
      "source": [
        "print(torch.mean(x,1))"
      ],
      "execution_count": null,
      "outputs": [
        {
          "output_type": "stream",
          "text": [
            "tensor([1., 2.])\n"
          ],
          "name": "stdout"
        }
      ]
    },
    {
      "cell_type": "markdown",
      "metadata": {
        "id": "16ZRJOHz-i9O"
      },
      "source": [
        "### 행렬 Tensor의 인덱스 조작"
      ]
    },
    {
      "cell_type": "code",
      "metadata": {
        "id": "p4GQmbxX-dNJ"
      },
      "source": [
        "x1 = torch.tensor([[1,2], [3, 4.]]) # 2x2\r\n",
        "x2 = torch.tensor([[10, 20, 30], [40, 50, 60.]])  # 2x3"
      ],
      "execution_count": null,
      "outputs": []
    },
    {
      "cell_type": "code",
      "metadata": {
        "colab": {
          "base_uri": "https://localhost:8080/"
        },
        "id": "byKyE21J-xPG",
        "outputId": "7e911588-3965-4de6-d12a-342321fc503e"
      },
      "source": [
        "x1.view(4,1)  #  2x2를 4x1로 차원을 변경한다."
      ],
      "execution_count": null,
      "outputs": [
        {
          "output_type": "execute_result",
          "data": {
            "text/plain": [
              "tensor([[1.],\n",
              "        [2.],\n",
              "        [3.],\n",
              "        [4.]])"
            ]
          },
          "metadata": {
            "tags": []
          },
          "execution_count": 47
        }
      ]
    },
    {
      "cell_type": "code",
      "metadata": {
        "colab": {
          "base_uri": "https://localhost:8080/"
        },
        "id": "74l56_E_-y9D",
        "outputId": "131931b1-8b5a-420a-d0e1-0a161a7d254d"
      },
      "source": [
        "x1.view(1,-1) # -1을 사용하면 표현할 수 있는 자동화된 값으로 대체(행, 열 둘 중에서 한 곳만 사용 가능)\r\n",
        "# 갯수만 맞으면 아무 숫자나 올 수 있음"
      ],
      "execution_count": null,
      "outputs": [
        {
          "output_type": "execute_result",
          "data": {
            "text/plain": [
              "tensor([[1., 2., 3., 4.]])"
            ]
          },
          "metadata": {
            "tags": []
          },
          "execution_count": 48
        }
      ]
    },
    {
      "cell_type": "code",
      "metadata": {
        "colab": {
          "base_uri": "https://localhost:8080/"
        },
        "id": "HsGYZ-z0-90j",
        "outputId": "f6178f75-703f-4662-f51c-99f95c21a6cc"
      },
      "source": [
        "x2.t()  # 2x3을 전치해서 3x2로 만든다. t => transpose"
      ],
      "execution_count": null,
      "outputs": [
        {
          "output_type": "execute_result",
          "data": {
            "text/plain": [
              "tensor([[10., 40.],\n",
              "        [20., 50.],\n",
              "        [30., 60.]])"
            ]
          },
          "metadata": {
            "tags": []
          },
          "execution_count": 49
        }
      ]
    },
    {
      "cell_type": "code",
      "metadata": {
        "colab": {
          "base_uri": "https://localhost:8080/"
        },
        "id": "MXR3pa-5_AXq",
        "outputId": "e621e088-cf6e-496f-be49-a4ea4488f65b"
      },
      "source": [
        "torch.cat([x1, x2], dim=1)  # dim=1로 결합하면 열에 붙여서 2x5의 Tensor로 만든다.(concatenate)"
      ],
      "execution_count": null,
      "outputs": [
        {
          "output_type": "execute_result",
          "data": {
            "text/plain": [
              "tensor([[ 1.,  2., 10., 20., 30.],\n",
              "        [ 3.,  4., 40., 50., 60.]])"
            ]
          },
          "metadata": {
            "tags": []
          },
          "execution_count": 50
        }
      ]
    }
  ]
}
{
  "nbformat": 4,
  "nbformat_minor": 0,
  "metadata": {
    "colab": {
      "name": "3_linear_regression_by_cuda(GPU)",
      "provenance": [],
      "collapsed_sections": [],
      "authorship_tag": "ABX9TyNrOrXy39uegdx61cxjphia"
    },
    "kernelspec": {
      "name": "python3",
      "display_name": "Python 3"
    },
    "accelerator": "GPU"
  },
  "cells": [
    {
      "cell_type": "code",
      "metadata": {
        "id": "VjnXgtAZNf6k"
      },
      "source": [
        "import torch\r\n",
        "from torch import nn, optim\r\n",
        "import matplotlib.pyplot as plt"
      ],
      "execution_count": null,
      "outputs": []
    },
    {
      "cell_type": "code",
      "metadata": {
        "id": "VPYPnyyVNnHI"
      },
      "source": [
        "basic = torch.ones(13, dtype=torch.float32)\r\n",
        "x1_gas = torch.tensor([0,73,31,39,78,22,96,82,24,81,61,28,91], dtype=torch.float32)\r\n",
        "x2_gas = torch.tensor([11,88,81,2,73,88,8,64,80,45,67,34,25], dtype=torch.float32)\r\n",
        "toxic = torch.FloatTensor([34,411,306,85,376,309,217,357,289,298,324,159,258])"
      ],
      "execution_count": null,
      "outputs": []
    },
    {
      "cell_type": "code",
      "metadata": {
        "id": "bKGjGd9tN5M1"
      },
      "source": [
        "toxic = toxic.view((-1,1))\r\n",
        "toxic = toxic.to('cuda')\r\n",
        "#print(toxic.dtype)"
      ],
      "execution_count": null,
      "outputs": []
    },
    {
      "cell_type": "code",
      "metadata": {
        "id": "y1QSavQuOH_w"
      },
      "source": [
        "basic = basic.view((-1,1))\r\n",
        "#print(basic.size())\r\n",
        "x1_gas = x1_gas.view((-1,1))\r\n",
        "#print(x1_gas.size())\r\n",
        "x2_gas = x2_gas.view((-1,1))\r\n",
        "#print(x2_gas.size())\r\n"
      ],
      "execution_count": null,
      "outputs": []
    },
    {
      "cell_type": "code",
      "metadata": {
        "id": "6-oZqM0cOaa6"
      },
      "source": [
        "X = torch.cat([basic, x1_gas, x2_gas], dim=1)\r\n",
        "X = X.to('cuda')"
      ],
      "execution_count": null,
      "outputs": []
    },
    {
      "cell_type": "code",
      "metadata": {
        "id": "tedVSQQBOfsy"
      },
      "source": [
        "net = nn.Linear(in_features=3, out_features=1, bias=False)  # input 3개, output 1개\r\n",
        "# net은 사람이라고 생각\r\n",
        "net = net.to('cuda')\r\n",
        "optimizer = optim.SGD(net.parameters(), lr=0.0001)  # lr = learning rate\r\n",
        "# optimizer는 비유하자면 과외선생님, net이라는 사람의 뇌(parameters)를 SGD방법으로 학습시킨다.\r\n",
        "loss_fn = nn.MSELoss()\r\n",
        "# loss_fn은 비유하자면 평가방법, 즉 수능(MSELoss)이라고 생각\r\n",
        "\r\n",
        "losses = [] # losses는 비유하자면 매달 치르는 모의고사 성적표를 한데 모아놓은 것이라고 생각"
      ],
      "execution_count": null,
      "outputs": []
    },
    {
      "cell_type": "code",
      "metadata": {
        "id": "vZMGvxb8O1wT"
      },
      "source": [
        "for epoch in range(15):\r\n",
        "  optimizer.zero_grad() # 최솟값을 찾기위해 방향을 오른쪽으로 갈지 왼쪽으로 갈지 결정해 주기 전에 0으로 초기화\r\n",
        "  # 비유하자면 과외선생님이 학생의 실력을 잘 모르니 가르칠 방향을 정하지 못하는것?\r\n",
        "\r\n",
        "  y_pred = net(X) \r\n",
        "  # y_pred는 비유하자면 실력 test, net이란 학생에게 X(13x3의 data)라는 문제를 주고 풀게 하는 것\r\n",
        "  #print(y_pred.size(), toxic.size())\r\n",
        "\r\n",
        "  loss = loss_fn(y_pred, toxic)  # loss는 점수, loss의 값은 tensor로 나온다.\r\n",
        "  # 비유하자면 loss_fn이라는 평가방법에 학생의 실력 test인 y_pred와 정답인 toxic를 넣고 체점해 점수를 매기는 것\r\n",
        "  loss.backward() # 상세한 성적이 나옴(ex 국어는 몇점, 수학은 몇점)\r\n",
        "\r\n",
        "  optimizer.step()  # optimizer라는 과외선생님이 loss.backward()의 결과를 보고 학생을 가르칠 방향을 잡는다.\r\n",
        "  # 미분한 값이 양수니까 왼쪽으로 가야 최솟값을 찾을 수 있겠다라고 알려주는 것\r\n",
        "  losses.append(loss.item()) # 성적표에 기재"
      ],
      "execution_count": null,
      "outputs": []
    },
    {
      "cell_type": "code",
      "metadata": {
        "colab": {
          "base_uri": "https://localhost:8080/",
          "height": 265
        },
        "id": "C0FUghOOPCIG",
        "outputId": "535d07e6-7957-42dd-af45-84ee390ab329"
      },
      "source": [
        "plt.plot(losses)\r\n",
        "plt.show()"
      ],
      "execution_count": null,
      "outputs": [
        {
          "output_type": "display_data",
          "data": {
            "image/png": "[encoded data removed]",
            "text/plain": [
              "<Figure size 432x288 with 1 Axes>"
            ]
          },
          "metadata": {
            "tags": [],
            "needs_background": "light"
          }
        }
      ]
    },
    {
      "cell_type": "code",
      "metadata": {
        "colab": {
          "base_uri": "https://localhost:8080/"
        },
        "id": "9fTegBIPPECE",
        "outputId": "d1f7f075-f757-4853-c63a-9e63233b5e63"
      },
      "source": [
        "print(list(net.parameters()))"
      ],
      "execution_count": null,
      "outputs": [
        {
          "output_type": "stream",
          "text": [
            "[Parameter containing:\n",
            "tensor([[-0.3339,  2.0521,  2.9675]], device='cuda:0', requires_grad=True)]\n"
          ],
          "name": "stdout"
        }
      ]
    },
    {
      "cell_type": "markdown",
      "metadata": {
        "id": "L-VDZJ45Pd_d"
      },
      "source": [
        "### x1 gas = 100.0, x2 gas = 100.0인 경우, toxic level 예측"
      ]
    },
    {
      "cell_type": "code",
      "metadata": {
        "id": "ZkqN6Hz2POdX",
        "colab": {
          "base_uri": "https://localhost:8080/"
        },
        "outputId": "2e2c0da3-f3ec-4349-a4e5-0970f96c8ab7"
      },
      "source": [
        "input_value = torch.tensor((1,100,100), dtype=torch.float).to('cuda')\r\n",
        "toxic_level = net(input_value)\r\n",
        "print('toxic_level: ', toxic_level)\r\n",
        "print('toxic_level: ', toxic_level.item())"
      ],
      "execution_count": null,
      "outputs": [
        {
          "output_type": "stream",
          "text": [
            "toxic_level:  tensor([501.6184], device='cuda:0', grad_fn=<SqueezeBackward3>)\n",
            "toxic_level:  501.618408203125\n"
          ],
          "name": "stdout"
        }
      ]
    }
  ]
}